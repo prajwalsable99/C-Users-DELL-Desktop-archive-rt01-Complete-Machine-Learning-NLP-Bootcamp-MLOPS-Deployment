{
 "cells": [
  {
   "cell_type": "code",
   "execution_count": 1,
   "id": "f98410eb-e65b-4120-87e9-92e5d660d6a7",
   "metadata": {},
   "outputs": [],
   "source": [
    "import logging"
   ]
  },
  {
   "cell_type": "code",
   "execution_count": 5,
   "id": "935ac38b-de96-4135-b19c-1d38993851ac",
   "metadata": {},
   "outputs": [],
   "source": [
    "logging.basicConfig(level=logging.DEBUG)"
   ]
  },
  {
   "cell_type": "code",
   "execution_count": 6,
   "id": "d92caed2-86a5-493f-99fd-45e5d3062db9",
   "metadata": {},
   "outputs": [],
   "source": [
    "logging.debug(\"debug\")"
   ]
  },
  {
   "cell_type": "code",
   "execution_count": null,
   "id": "828aa55e-d339-41b7-9937-9b2f0bb8687e",
   "metadata": {},
   "outputs": [],
   "source": []
  }
 ],
 "metadata": {
  "kernelspec": {
   "display_name": "Python 3 (ipykernel)",
   "language": "python",
   "name": "python3"
  },
  "language_info": {
   "codemirror_mode": {
    "name": "ipython",
    "version": 3
   },
   "file_extension": ".py",
   "mimetype": "text/x-python",
   "name": "python",
   "nbconvert_exporter": "python",
   "pygments_lexer": "ipython3",
   "version": "3.12.3"
  }
 },
 "nbformat": 4,
 "nbformat_minor": 5
}
