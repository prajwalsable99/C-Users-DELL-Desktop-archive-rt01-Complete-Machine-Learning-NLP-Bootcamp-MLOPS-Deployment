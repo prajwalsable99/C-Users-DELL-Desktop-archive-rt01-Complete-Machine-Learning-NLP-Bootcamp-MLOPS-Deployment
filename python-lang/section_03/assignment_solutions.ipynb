{
 "cells": [
  {
   "cell_type": "markdown",
   "id": "31cce17d",
   "metadata": {},
   "source": [
    "# Module 2: Control Flow Assignments\n",
    "## Lesson 2.1: Conditional Statements\n",
    "### Assignment 1: Simple if Statement\n",
    "\n",
    "Write a program that asks the user to input a number and prints whether the number is positive."
   ]
  },
  {
   "cell_type": "code",
   "execution_count": 1,
   "id": "07fbe2e4",
   "metadata": {},
   "outputs": [
    {
     "name": "stdin",
     "output_type": "stream",
     "text": [
      "Enter a number:  1\n"
     ]
    },
    {
     "name": "stdout",
     "output_type": "stream",
     "text": [
      "The number is positive.\n"
     ]
    }
   ],
   "source": [
    "number = float(input(\"Enter a number: \"))\n",
    "if number > 0:\n",
    "    print(\"The number is positive.\")"
   ]
  },
  {
   "cell_type": "markdown",
   "id": "10826e86",
   "metadata": {},
   "source": [
    "### Assignment 2: if-else Statement\n",
    "\n",
    "Write a program that asks the user to input a number and prints whether the number is positive or negative."
   ]
  },
  {
   "cell_type": "code",
   "execution_count": 2,
   "id": "ec924104",
   "metadata": {},
   "outputs": [
    {
     "name": "stdin",
     "output_type": "stream",
     "text": [
      "Enter a number:  1\n"
     ]
    },
    {
     "name": "stdout",
     "output_type": "stream",
     "text": [
      "The number is positive.\n"
     ]
    }
   ],
   "source": [
    "number = float(input(\"Enter a number: \"))\n",
    "if number > 0:\n",
    "    print(\"The number is positive.\")\n",
    "else:\n",
    "    print(\"The number is negative.\")"
   ]
  },
  {
   "cell_type": "markdown",
   "id": "caf20495",
   "metadata": {},
   "source": [
    "### Assignment 3: if-elif-else Statement\n",
    "\n",
    "Write a program that asks the user to input a number and prints whether the number is positive, negative, or zero."
   ]
  },
  {
   "cell_type": "code",
   "execution_count": 3,
   "id": "e6238b5a",
   "metadata": {},
   "outputs": [
    {
     "name": "stdin",
     "output_type": "stream",
     "text": [
      "Enter a number:  1\n"
     ]
    },
    {
     "name": "stdout",
     "output_type": "stream",
     "text": [
      "The number is positive.\n"
     ]
    }
   ],
   "source": [
    "number = float(input(\"Enter a number: \"))\n",
    "if number > 0:\n",
    "    print(\"The number is positive.\")\n",
    "elif number < 0:\n",
    "    print(\"The number is negative.\")\n",
    "else:\n",
    "    print(\"The number is zero.\")"
   ]
  },
  {
   "cell_type": "markdown",
   "id": "a9a75d48",
   "metadata": {},
   "source": [
    "### Assignment 4: Nested if Statement\n",
    "\n",
    "Write a program that asks the user to input a number and prints whether the number is positive and even, positive and odd, or negative."
   ]
  },
  {
   "cell_type": "markdown",
   "id": "a2d2c227-c4ed-4345-aa39-6cc2297bb49e",
   "metadata": {},
   "source": [
    "# number = float(input(\"Enter a number: \"))\n",
    "if number > 0:\n",
    "    if number % 2 == 0:\n",
    "        print(\"The number is positive and even.\")\n",
    "    else:\n",
    "        print(\"The number is positive and odd.\")\n",
    "else:\n",
    "    print(\"The number is negative.\")"
   ]
  },
  {
   "cell_type": "markdown",
   "id": "34d734bf",
   "metadata": {},
   "source": [
    "## Lesson 2.2: Loops\n",
    "### Assignment 5: for Loop\n",
    "\n",
    "Write a program that prints all the numbers from 1 to 10 using a for loop."
   ]
  },
  {
   "cell_type": "code",
   "execution_count": 5,
   "id": "04ae2dbd",
   "metadata": {},
   "outputs": [
    {
     "name": "stdout",
     "output_type": "stream",
     "text": [
      "1\n",
      "2\n",
      "3\n",
      "4\n",
      "5\n",
      "6\n",
      "7\n",
      "8\n",
      "9\n",
      "10\n"
     ]
    }
   ],
   "source": [
    "for i in range(1, 11):\n",
    "    print(i)"
   ]
  },
  {
   "cell_type": "markdown",
   "id": "fb5b0fee",
   "metadata": {},
   "source": [
    "### Assignment 6: while Loop\n",
    "\n",
    "Write a program that prints all the numbers from 1 to 10 using a while loop."
   ]
  },
  {
   "cell_type": "code",
   "execution_count": 6,
   "id": "80bea34d",
   "metadata": {},
   "outputs": [
    {
     "name": "stdout",
     "output_type": "stream",
     "text": [
      "1\n",
      "2\n",
      "3\n",
      "4\n",
      "5\n",
      "6\n",
      "7\n",
      "8\n",
      "9\n",
      "10\n"
     ]
    }
   ],
   "source": [
    "i = 1\n",
    "while i <= 10:\n",
    "    print(i)\n",
    "    i += 1"
   ]
  },
  {
   "cell_type": "markdown",
   "id": "b360b86d",
   "metadata": {},
   "source": [
    "### Assignment 7: Nested Loops\n",
    "\n",
    "Write a program that prints a 5x5 grid of asterisks (*) using nested loops."
   ]
  },
  {
   "cell_type": "code",
   "execution_count": 7,
   "id": "04876d42",
   "metadata": {},
   "outputs": [
    {
     "name": "stdout",
     "output_type": "stream",
     "text": [
      "* * * * * \n",
      "* * * * * \n",
      "* * * * * \n",
      "* * * * * \n",
      "* * * * * \n"
     ]
    }
   ],
   "source": [
    "for i in range(5):\n",
    "    for j in range(5):\n",
    "        print(\"*\", end=\" \")\n",
    "    print()"
   ]
  },
  {
   "cell_type": "markdown",
   "id": "65fd830f",
   "metadata": {},
   "source": [
    "### Assignment 8: break Statement\n",
    "\n",
    "Write a program that asks the user to input numbers until they input 0. The program should print the sum of all the input numbers."
   ]
  },
  {
   "cell_type": "code",
   "execution_count": 8,
   "id": "4b82a267",
   "metadata": {},
   "outputs": [
    {
     "name": "stdin",
     "output_type": "stream",
     "text": [
      "Enter a number (0 to stop):  11\n",
      "Enter a number (0 to stop):  23\n",
      "Enter a number (0 to stop):  0\n"
     ]
    },
    {
     "name": "stdout",
     "output_type": "stream",
     "text": [
      "The sum of all the numbers is 34.0.\n"
     ]
    }
   ],
   "source": [
    "total = 0\n",
    "while True:\n",
    "    number = float(input(\"Enter a number (0 to stop): \"))\n",
    "    if number == 0:\n",
    "        break\n",
    "    total += number\n",
    "print(f\"The sum of all the numbers is {total}.\")"
   ]
  },
  {
   "cell_type": "markdown",
   "id": "920c308c",
   "metadata": {},
   "source": [
    "### Assignment 9: continue Statement\n",
    "\n",
    "Write a program that prints all the numbers from 1 to 10 except 5 using a for loop and continue statement."
   ]
  },
  {
   "cell_type": "code",
   "execution_count": 9,
   "id": "d7109088",
   "metadata": {},
   "outputs": [
    {
     "name": "stdout",
     "output_type": "stream",
     "text": [
      "1\n",
      "2\n",
      "3\n",
      "4\n",
      "6\n",
      "7\n",
      "8\n",
      "9\n",
      "10\n"
     ]
    }
   ],
   "source": [
    "for i in range(1, 11):\n",
    "    if i == 5:\n",
    "        continue\n",
    "    print(i)"
   ]
  },
  {
   "cell_type": "markdown",
   "id": "31aad2c2",
   "metadata": {},
   "source": [
    "### Assignment 10: pass Statement\n",
    "\n",
    "Write a program that defines an empty function using the pass statement."
   ]
  },
  {
   "cell_type": "code",
   "execution_count": 10,
   "id": "9d1c06d1",
   "metadata": {},
   "outputs": [],
   "source": [
    "def empty_function():\n",
    "    pass\n",
    "\n",
    "# Calling the empty function\n",
    "empty_function()"
   ]
  },
  {
   "cell_type": "markdown",
   "id": "3d4bb215",
   "metadata": {},
   "source": [
    "### Assignment 11: Combining Loops and Conditionals\n",
    "\n",
    "Write a program that asks the user to input a number and prints all the even numbers from 1 to that number using a for loop."
   ]
  },
  {
   "cell_type": "code",
   "execution_count": 11,
   "id": "9c2c56ce",
   "metadata": {},
   "outputs": [
    {
     "name": "stdin",
     "output_type": "stream",
     "text": [
      "Enter a number:  5\n"
     ]
    },
    {
     "name": "stdout",
     "output_type": "stream",
     "text": [
      "2\n",
      "4\n"
     ]
    }
   ],
   "source": [
    "number = int(input(\"Enter a number: \"))\n",
    "for i in range(1, number + 1):\n",
    "    if i % 2 == 0:\n",
    "        print(i)"
   ]
  },
  {
   "cell_type": "markdown",
   "id": "ca15961a",
   "metadata": {},
   "source": [
    "### Assignment 12: Factorial Calculation\n",
    "\n",
    "Write a program that calculates the factorial of a number input by the user using a while loop."
   ]
  },
  {
   "cell_type": "code",
   "execution_count": 12,
   "id": "b1e28dbd",
   "metadata": {},
   "outputs": [
    {
     "name": "stdin",
     "output_type": "stream",
     "text": [
      "Enter a number:  4\n"
     ]
    },
    {
     "name": "stdout",
     "output_type": "stream",
     "text": [
      "The factorial of 4 is 24.\n"
     ]
    }
   ],
   "source": [
    "number = int(input(\"Enter a number: \"))\n",
    "factorial = 1\n",
    "i = 1\n",
    "while i <= number:\n",
    "    factorial *= i\n",
    "    i += 1\n",
    "print(f\"The factorial of {number} is {factorial}.\")"
   ]
  },
  {
   "cell_type": "markdown",
   "id": "fa57f8c2",
   "metadata": {},
   "source": [
    "### Assignment 13: Sum of Digits\n",
    "\n",
    "Write a program that calculates the sum of the digits of a number input by the user using a while loop."
   ]
  },
  {
   "cell_type": "code",
   "execution_count": 13,
   "id": "3fd9ddd8",
   "metadata": {},
   "outputs": [
    {
     "name": "stdin",
     "output_type": "stream",
     "text": [
      "Enter a number:  432\n"
     ]
    },
    {
     "name": "stdout",
     "output_type": "stream",
     "text": [
      "The sum of the digits is 9.\n"
     ]
    }
   ],
   "source": [
    "number = int(input(\"Enter a number: \"))\n",
    "sum_of_digits = 0\n",
    "while number > 0:\n",
    "    digit = number % 10\n",
    "    sum_of_digits += digit\n",
    "    number = number // 10\n",
    "print(f\"The sum of the digits is {sum_of_digits}.\")"
   ]
  },
  {
   "cell_type": "markdown",
   "id": "68a7226e",
   "metadata": {},
   "source": [
    "### Assignment 14: Prime Number Check\n",
    "\n",
    "Write a program that checks if a number input by the user is a prime number using a for loop."
   ]
  },
  {
   "cell_type": "code",
   "execution_count": 14,
   "id": "15df0ed2",
   "metadata": {},
   "outputs": [
    {
     "name": "stdin",
     "output_type": "stream",
     "text": [
      "Enter a number:  11\n"
     ]
    },
    {
     "name": "stdout",
     "output_type": "stream",
     "text": [
      "11 is a prime number.\n"
     ]
    }
   ],
   "source": [
    "number = int(input(\"Enter a number: \"))\n",
    "is_prime = True\n",
    "if number <= 1:\n",
    "    is_prime = False\n",
    "else:\n",
    "    for i in range(2, int(number ** 0.5) + 1):\n",
    "        if number % i == 0:\n",
    "            is_prime = False\n",
    "            break\n",
    "if is_prime:\n",
    "    print(f\"{number} is a prime number.\")\n",
    "else:\n",
    "    print(f\"{number} is not a prime number.\")"
   ]
  },
  {
   "cell_type": "markdown",
   "id": "095ae004",
   "metadata": {},
   "source": [
    "### Assignment 15: Fibonacci Sequence\n",
    "\n",
    "Write a program that prints the first n Fibonacci numbers, where n is input by the user."
   ]
  },
  {
   "cell_type": "code",
   "execution_count": 15,
   "id": "be8bfdfc",
   "metadata": {},
   "outputs": [
    {
     "name": "stdin",
     "output_type": "stream",
     "text": [
      "Enter the number of Fibonacci numbers to print:  11\n"
     ]
    },
    {
     "name": "stdout",
     "output_type": "stream",
     "text": [
      "0\n",
      "1\n",
      "1\n",
      "2\n",
      "3\n",
      "5\n",
      "8\n",
      "13\n",
      "21\n",
      "34\n",
      "55\n"
     ]
    }
   ],
   "source": [
    "n = int(input(\"Enter the number of Fibonacci numbers to print: \"))\n",
    "a, b = 0, 1\n",
    "count = 0\n",
    "while count < n:\n",
    "    print(a)\n",
    "    a, b = b, a + b\n",
    "    count += 1"
   ]
  }
 ],
 "metadata": {
  "kernelspec": {
   "display_name": "Python 3 (ipykernel)",
   "language": "python",
   "name": "python3"
  },
  "language_info": {
   "codemirror_mode": {
    "name": "ipython",
    "version": 3
   },
   "file_extension": ".py",
   "mimetype": "text/x-python",
   "name": "python",
   "nbconvert_exporter": "python",
   "pygments_lexer": "ipython3",
   "version": "3.12.3"
  }
 },
 "nbformat": 4,
 "nbformat_minor": 5
}
