{
 "cells": [
  {
   "cell_type": "markdown",
   "id": "32918f3e-dd83-4a73-b295-754cd56e92c2",
   "metadata": {
    "jp-MarkdownHeadingCollapsed": true
   },
   "source": [
    "# tokenization"
   ]
  },
  {
   "cell_type": "code",
   "execution_count": 24,
   "id": "2b2f91d3-73e4-4a06-81f7-bca6ac2d3ba5",
   "metadata": {},
   "outputs": [],
   "source": [
    "corpus='''This model predicts the probability of an instance belongs \n",
    "to a class with a given set of feature value. \n",
    "It is a probabilistic classifier. It is because it assumes that one feature \n",
    "in the model is independent of existence of another feature. \n",
    "In other words, each feature contributes to the predictions with no relation between \n",
    "each other. In real world, this condition satisfies rarely. It \n",
    "uses Bayes theorem in the algorithm for training and prediction'''"
   ]
  },
  {
   "cell_type": "code",
   "execution_count": 25,
   "id": "bef963fe-fe18-40bc-ae60-6ad05c382fee",
   "metadata": {},
   "outputs": [],
   "source": [
    "\n",
    "import nltk\n"
   ]
  },
  {
   "cell_type": "code",
   "execution_count": 26,
   "id": "367774cc-d7b6-40e5-ace8-4c38849c0fcd",
   "metadata": {},
   "outputs": [],
   "source": [
    "from nltk.tokenize import sent_tokenize,word_tokenize"
   ]
  },
  {
   "cell_type": "code",
   "execution_count": 27,
   "id": "103a1e0f-78ec-4571-9fed-f21d29c87b04",
   "metadata": {
    "scrolled": true
   },
   "outputs": [
    {
     "data": {
      "text/plain": [
       "['This model predicts the probability of an instance belongs \\nto a class with a given set of feature value.',\n",
       " 'It is a probabilistic classifier.',\n",
       " 'It is because it assumes that one feature \\nin the model is independent of existence of another feature.',\n",
       " 'In other words, each feature contributes to the predictions with no relation between \\neach other.',\n",
       " 'In real world, this condition satisfies rarely.',\n",
       " 'It \\nuses Bayes theorem in the algorithm for training and prediction']"
      ]
     },
     "execution_count": 27,
     "metadata": {},
     "output_type": "execute_result"
    }
   ],
   "source": [
    "sentences=sent_tokenize(corpus)\n",
    "sentences"
   ]
  },
  {
   "cell_type": "code",
   "execution_count": 28,
   "id": "6e5fca41-b43f-4d1c-99eb-c7e8303065cb",
   "metadata": {},
   "outputs": [
    {
     "name": "stdout",
     "output_type": "stream",
     "text": [
      "['This', 'model', 'predicts', 'the', 'probability', 'of', 'an', 'instance', 'belongs', 'to', 'a', 'class', 'with', 'a', 'given', 'set', 'of', 'feature', 'value', '.']\n",
      "['It', 'is', 'a', 'probabilistic', 'classifier', '.']\n",
      "['It', 'is', 'because', 'it', 'assumes', 'that', 'one', 'feature', 'in', 'the', 'model', 'is', 'independent', 'of', 'existence', 'of', 'another', 'feature', '.']\n",
      "['In', 'other', 'words', ',', 'each', 'feature', 'contributes', 'to', 'the', 'predictions', 'with', 'no', 'relation', 'between', 'each', 'other', '.']\n",
      "['In', 'real', 'world', ',', 'this', 'condition', 'satisfies', 'rarely', '.']\n",
      "['It', 'uses', 'Bayes', 'theorem', 'in', 'the', 'algorithm', 'for', 'training', 'and', 'prediction']\n"
     ]
    }
   ],
   "source": [
    "for sentence in sentences:\n",
    "    words=word_tokenize(sentence)\n",
    "    print(words)\n",
    "    "
   ]
  },
  {
   "cell_type": "code",
   "execution_count": 32,
   "id": "77844810-065a-4f5d-8ba5-33f3c7bedaab",
   "metadata": {},
   "outputs": [],
   "source": [
    "from nltk.tokenize import TreebankWordTokenizer\n",
    "tokenizer=TreebankWordTokenizer()"
   ]
  },
  {
   "cell_type": "code",
   "execution_count": 33,
   "id": "a3e3541b-3348-4b08-af70-31d0c4de74f5",
   "metadata": {},
   "outputs": [
    {
     "data": {
      "text/plain": [
       "['This',\n",
       " 'model',\n",
       " 'predicts',\n",
       " 'the',\n",
       " 'probability',\n",
       " 'of',\n",
       " 'an',\n",
       " 'instance',\n",
       " 'belongs',\n",
       " 'to',\n",
       " 'a',\n",
       " 'class',\n",
       " 'with',\n",
       " 'a',\n",
       " 'given',\n",
       " 'set',\n",
       " 'of',\n",
       " 'feature',\n",
       " 'value',\n",
       " '.']"
      ]
     },
     "execution_count": 33,
     "metadata": {},
     "output_type": "execute_result"
    }
   ],
   "source": [
    "tokenizer.tokenize(sentences[0])"
   ]
  },
  {
   "cell_type": "markdown",
   "id": "7f332e21-d10e-4899-9d54-32ad816d9189",
   "metadata": {
    "jp-MarkdownHeadingCollapsed": true
   },
   "source": [
    "# stemming"
   ]
  },
  {
   "cell_type": "code",
   "execution_count": 41,
   "id": "68469a3b-15fc-441c-aef5-08f092b743cf",
   "metadata": {},
   "outputs": [],
   "source": [
    "from nltk.stem import PorterStemmer,RegexpStemmer,SnowballStemmer"
   ]
  },
  {
   "cell_type": "code",
   "execution_count": 35,
   "id": "77ae04ae-1f25-4a9a-a46e-36efd25c115c",
   "metadata": {},
   "outputs": [],
   "source": [
    "ps=PorterStemmer()\n"
   ]
  },
  {
   "cell_type": "code",
   "execution_count": 39,
   "id": "0bf1126f-68e8-4949-86f8-2e8c2617f6ca",
   "metadata": {},
   "outputs": [],
   "source": [
    "words= [ 'playing','caring','doable','programming','action','plays','finalized','congratulations']"
   ]
  },
  {
   "cell_type": "code",
   "execution_count": 40,
   "id": "4f98195c-3ea4-4f24-87df-8d453f57a321",
   "metadata": {},
   "outputs": [
    {
     "name": "stdout",
     "output_type": "stream",
     "text": [
      "play\n",
      "care\n",
      "doabl\n",
      "program\n",
      "action\n",
      "play\n",
      "final\n",
      "congratul\n"
     ]
    }
   ],
   "source": [
    "\n",
    "for word in words:\n",
    "    print(ps.stem(word))"
   ]
  },
  {
   "cell_type": "code",
   "execution_count": 49,
   "id": "771c57a2-74d7-4b02-9fd9-35a23bec577d",
   "metadata": {},
   "outputs": [],
   "source": [
    "rs=RegexpStemmer(regexp= 'ing$')"
   ]
  },
  {
   "cell_type": "code",
   "execution_count": 50,
   "id": "b76bca51-f9c6-4d52-ba6e-47a7e3213b33",
   "metadata": {},
   "outputs": [
    {
     "name": "stdout",
     "output_type": "stream",
     "text": [
      "play\n",
      "car\n",
      "doable\n",
      "programm\n",
      "action\n",
      "plays\n",
      "finalized\n",
      "congratulations\n"
     ]
    }
   ],
   "source": [
    "\n",
    "for word in words:\n",
    "    print(rs.stem(word))"
   ]
  },
  {
   "cell_type": "code",
   "execution_count": 53,
   "id": "5d33a451-0981-470d-8908-42f34f1bc514",
   "metadata": {},
   "outputs": [],
   "source": [
    "ss=SnowballStemmer(language='english')"
   ]
  },
  {
   "cell_type": "code",
   "execution_count": 54,
   "id": "efe90e4d-a9ba-4144-9458-c3a870ad45ea",
   "metadata": {},
   "outputs": [
    {
     "name": "stdout",
     "output_type": "stream",
     "text": [
      "play\n",
      "care\n",
      "doabl\n",
      "program\n",
      "action\n",
      "play\n",
      "final\n",
      "congratul\n"
     ]
    }
   ],
   "source": [
    "\n",
    "for word in words:\n",
    "    print(ss.stem(word))"
   ]
  },
  {
   "cell_type": "markdown",
   "id": "2099c2c6-aefa-4c42-ba43-1954073faf67",
   "metadata": {
    "jp-MarkdownHeadingCollapsed": true
   },
   "source": [
    "# Lemmatization"
   ]
  },
  {
   "cell_type": "code",
   "execution_count": 55,
   "id": "cadc3892-71bb-4223-b15c-b4a5ad655459",
   "metadata": {},
   "outputs": [],
   "source": [
    "from nltk.stem import WordNetLemmatizer"
   ]
  },
  {
   "cell_type": "code",
   "execution_count": 57,
   "id": "540719f3-cc2f-47e4-936b-555ff5e67e34",
   "metadata": {},
   "outputs": [],
   "source": [
    "lemmatizer=WordNetLemmatizer()\n"
   ]
  },
  {
   "cell_type": "code",
   "execution_count": 60,
   "id": "d2874f4b-7cd0-4a70-adb7-45642b6cac85",
   "metadata": {},
   "outputs": [
    {
     "name": "stdout",
     "output_type": "stream",
     "text": [
      "play\n",
      "care\n",
      "doable\n",
      "program\n",
      "action\n",
      "play\n",
      "finalize\n",
      "congratulations\n"
     ]
    }
   ],
   "source": [
    "for w in words:\n",
    "    w=lemmatizer.lemmatize(w,pos='v')\n",
    "    print(w)"
   ]
  },
  {
   "cell_type": "code",
   "execution_count": 62,
   "id": "f3e627c4-dbc7-49be-bfbf-a57584000933",
   "metadata": {},
   "outputs": [
    {
     "name": "stdout",
     "output_type": "stream",
     "text": [
      "playing\n",
      "caring\n",
      "doable\n",
      "programming\n",
      "action\n",
      "play\n",
      "finalized\n",
      "congratulation\n"
     ]
    }
   ],
   "source": [
    "for w in words:\n",
    "    w=lemmatizer.lemmatize(w,pos='n')\n",
    "    print(w)"
   ]
  },
  {
   "cell_type": "markdown",
   "id": "bda6e4bc-61f9-4119-a8cb-b4157a08287d",
   "metadata": {},
   "source": [
    "# stopwords"
   ]
  },
  {
   "cell_type": "code",
   "execution_count": 63,
   "id": "b2853a7a-54d5-4cea-861b-e59b893334ef",
   "metadata": {},
   "outputs": [],
   "source": [
    "paragraph=''' I have three visions for India. In 3000 years of our history people from all over the world have come and invaded us, captured our lands, conquered our minds. From Alexander onwards the Greeks, the Turks, the Moguls, the Portuguese, the British, the French, the Dutch, all of them came and looted us, took over what was ours. Yet we have not done this to any other nation.\n",
    "\n",
    "We have not conquered anyone. We have not grabbed their land, their culture and their history and tried to enforce our way of life on them. Why? Because we respect the freedom of others. That is why my FIRST VISION is that of FREEDOM. I believe that India got its first vision of this in 1857, when we started the war of Independence. It is this freedom that we must protect and nurture and build on. If we are not free, no one will respect us.\n",
    "\n",
    "We have 10 percent growth rate in most areas. Our poverty levels are falling. Our achievements are being globally recognised today. Yet we lack the self-confidence to see ourselves as a developed nation, self-reliant and self-assured. Isn’t this incorrect? MY SECOND VISION for India is DEVELOPMENT. For fifty years we have been a developing nation. It is time we see ourselves as a developed nation. We are among top five nations in the world in terms of GDP.\n",
    "\n",
    "I have a THIRD VISION. India must stand up to the world. Because I believe that unless India stands up to the world, no one will respect us. Only strength respects strength. We must be strong not only as a military power but also as an economic power. Both must go hand-in-hand. My good fortune was to have worked with three great minds. Dr.Vikram Sarabhai, of the Dept. of Space, Professor Satish Dhawan, who succeeded him and Dr. Brahm Prakash, father of nuclear material. I was lucky to have worked with all three of them closely and consider this the great opportunity of my life.\n",
    "\n",
    "I was in Hyderabad giving this lecture, when a 14 year-old girl asked me for my autograph. I asked her what her goal in life is. She replied: I want to live in a developed India. For her, you and I will have to build this developed India. You must proclaim India is not an underdeveloped nation; it is a highly developed nation.\n",
    "\n",
    "You say that our government is inefficient. You say that our laws are too old. You say that the municipality does not pick up the garbage. You say that the phones don’t work, the railways are a joke, the airline is the worst in the world, and mails never reach their destination. You say that our country has been fed to the dogs and is the absolute pits. You say, say and say. What do you do about it?\n",
    "\n",
    "Dear Indians, I am echoing J.F.Kennedy’s words to his fellow Americans to relate to Indians ……. “ASK WHAT WE CAN DO FOR INDIA AND DO WHAT HAS TO BE DONE TO MAKE INDIA WHAT AMERICA AND OTHER WESTERN COUNTRIES ARE TODAY.”'''"
   ]
  },
  {
   "cell_type": "code",
   "execution_count": 66,
   "id": "d981e6cc-a10a-45d5-8c76-559675c126a3",
   "metadata": {},
   "outputs": [],
   "source": [
    "paragraph=paragraph.strip()\n",
    "paragraph =paragraph.replace('\\n', '')"
   ]
  },
  {
   "cell_type": "code",
   "execution_count": 67,
   "id": "dab683ce-ba0a-41d4-8c15-6faee5214669",
   "metadata": {},
   "outputs": [
    {
     "data": {
      "text/plain": [
       "'I have three visions for India. In 3000 years of our history people from all over the world have come and invaded us, captured our lands, conquered our minds. From Alexander onwards the Greeks, the Turks, the Moguls, the Portuguese, the British, the French, the Dutch, all of them came and looted us, took over what was ours. Yet we have not done this to any other nation.We have not conquered anyone. We have not grabbed their land, their culture and their history and tried to enforce our way of life on them. Why? Because we respect the freedom of others. That is why my FIRST VISION is that of FREEDOM. I believe that India got its first vision of this in 1857, when we started the war of Independence. It is this freedom that we must protect and nurture and build on. If we are not free, no one will respect us.We have 10 percent growth rate in most areas. Our poverty levels are falling. Our achievements are being globally recognised today. Yet we lack the self-confidence to see ourselves as a developed nation, self-reliant and self-assured. Isn’t this incorrect? MY SECOND VISION for India is DEVELOPMENT. For fifty years we have been a developing nation. It is time we see ourselves as a developed nation. We are among top five nations in the world in terms of GDP.I have a THIRD VISION. India must stand up to the world. Because I believe that unless India stands up to the world, no one will respect us. Only strength respects strength. We must be strong not only as a military power but also as an economic power. Both must go hand-in-hand. My good fortune was to have worked with three great minds. Dr.Vikram Sarabhai, of the Dept. of Space, Professor Satish Dhawan, who succeeded him and Dr. Brahm Prakash, father of nuclear material. I was lucky to have worked with all three of them closely and consider this the great opportunity of my life.I was in Hyderabad giving this lecture, when a 14 year-old girl asked me for my autograph. I asked her what her goal in life is. She replied: I want to live in a developed India. For her, you and I will have to build this developed India. You must proclaim India is not an underdeveloped nation; it is a highly developed nation.You say that our government is inefficient. You say that our laws are too old. You say that the municipality does not pick up the garbage. You say that the phones don’t work, the railways are a joke, the airline is the worst in the world, and mails never reach their destination. You say that our country has been fed to the dogs and is the absolute pits. You say, say and say. What do you do about it?Dear Indians, I am echoing J.F.Kennedy’s words to his fellow Americans to relate to Indians ……. “ASK WHAT WE CAN DO FOR INDIA AND DO WHAT HAS TO BE DONE TO MAKE INDIA WHAT AMERICA AND OTHER WESTERN COUNTRIES ARE TODAY.”'"
      ]
     },
     "execution_count": 67,
     "metadata": {},
     "output_type": "execute_result"
    }
   ],
   "source": [
    "paragraph"
   ]
  },
  {
   "cell_type": "code",
   "execution_count": 79,
   "id": "a0b1a0b1-f59e-49ed-b825-94cda5ff0187",
   "metadata": {},
   "outputs": [
    {
     "data": {
      "text/plain": [
       "['i',\n",
       " 'me',\n",
       " 'my',\n",
       " 'myself',\n",
       " 'we',\n",
       " 'our',\n",
       " 'ours',\n",
       " 'ourselves',\n",
       " 'you',\n",
       " \"you're\",\n",
       " \"you've\",\n",
       " \"you'll\",\n",
       " \"you'd\",\n",
       " 'your',\n",
       " 'yours',\n",
       " 'yourself',\n",
       " 'yourselves',\n",
       " 'he',\n",
       " 'him',\n",
       " 'his',\n",
       " 'himself',\n",
       " 'she',\n",
       " \"she's\",\n",
       " 'her',\n",
       " 'hers',\n",
       " 'herself',\n",
       " 'it',\n",
       " \"it's\",\n",
       " 'its',\n",
       " 'itself',\n",
       " 'they',\n",
       " 'them',\n",
       " 'their',\n",
       " 'theirs',\n",
       " 'themselves',\n",
       " 'what',\n",
       " 'which',\n",
       " 'who',\n",
       " 'whom',\n",
       " 'this',\n",
       " 'that',\n",
       " \"that'll\",\n",
       " 'these',\n",
       " 'those',\n",
       " 'am',\n",
       " 'is',\n",
       " 'are',\n",
       " 'was',\n",
       " 'were',\n",
       " 'be',\n",
       " 'been',\n",
       " 'being',\n",
       " 'have',\n",
       " 'has',\n",
       " 'had',\n",
       " 'having',\n",
       " 'do',\n",
       " 'does',\n",
       " 'did',\n",
       " 'doing',\n",
       " 'a',\n",
       " 'an',\n",
       " 'the',\n",
       " 'and',\n",
       " 'but',\n",
       " 'if',\n",
       " 'or',\n",
       " 'because',\n",
       " 'as',\n",
       " 'until',\n",
       " 'while',\n",
       " 'of',\n",
       " 'at',\n",
       " 'by',\n",
       " 'for',\n",
       " 'with',\n",
       " 'about',\n",
       " 'against',\n",
       " 'between',\n",
       " 'into',\n",
       " 'through',\n",
       " 'during',\n",
       " 'before',\n",
       " 'after',\n",
       " 'above',\n",
       " 'below',\n",
       " 'to',\n",
       " 'from',\n",
       " 'up',\n",
       " 'down',\n",
       " 'in',\n",
       " 'out',\n",
       " 'on',\n",
       " 'off',\n",
       " 'over',\n",
       " 'under',\n",
       " 'again',\n",
       " 'further',\n",
       " 'then',\n",
       " 'once',\n",
       " 'here',\n",
       " 'there',\n",
       " 'when',\n",
       " 'where',\n",
       " 'why',\n",
       " 'how',\n",
       " 'all',\n",
       " 'any',\n",
       " 'both',\n",
       " 'each',\n",
       " 'few',\n",
       " 'more',\n",
       " 'most',\n",
       " 'other',\n",
       " 'some',\n",
       " 'such',\n",
       " 'no',\n",
       " 'nor',\n",
       " 'not',\n",
       " 'only',\n",
       " 'own',\n",
       " 'same',\n",
       " 'so',\n",
       " 'than',\n",
       " 'too',\n",
       " 'very',\n",
       " 's',\n",
       " 't',\n",
       " 'can',\n",
       " 'will',\n",
       " 'just',\n",
       " 'don',\n",
       " \"don't\",\n",
       " 'should',\n",
       " \"should've\",\n",
       " 'now',\n",
       " 'd',\n",
       " 'll',\n",
       " 'm',\n",
       " 'o',\n",
       " 're',\n",
       " 've',\n",
       " 'y',\n",
       " 'ain',\n",
       " 'aren',\n",
       " \"aren't\",\n",
       " 'couldn',\n",
       " \"couldn't\",\n",
       " 'didn',\n",
       " \"didn't\",\n",
       " 'doesn',\n",
       " \"doesn't\",\n",
       " 'hadn',\n",
       " \"hadn't\",\n",
       " 'hasn',\n",
       " \"hasn't\",\n",
       " 'haven',\n",
       " \"haven't\",\n",
       " 'isn',\n",
       " \"isn't\",\n",
       " 'ma',\n",
       " 'mightn',\n",
       " \"mightn't\",\n",
       " 'mustn',\n",
       " \"mustn't\",\n",
       " 'needn',\n",
       " \"needn't\",\n",
       " 'shan',\n",
       " \"shan't\",\n",
       " 'shouldn',\n",
       " \"shouldn't\",\n",
       " 'wasn',\n",
       " \"wasn't\",\n",
       " 'weren',\n",
       " \"weren't\",\n",
       " 'won',\n",
       " \"won't\",\n",
       " 'wouldn',\n",
       " \"wouldn't\"]"
      ]
     },
     "execution_count": 79,
     "metadata": {},
     "output_type": "execute_result"
    }
   ],
   "source": [
    "from nltk.corpus import stopwords\n",
    "stopwords.words('english')"
   ]
  },
  {
   "cell_type": "code",
   "execution_count": 86,
   "id": "01a29424-60cb-4843-9002-d1610b5435fd",
   "metadata": {},
   "outputs": [],
   "source": [
    "summary=''\n",
    "for word in paragraph.split():\n",
    "    if word not in set(stopwords.words('english')):\n",
    "        word=ss.stem(word)\n",
    "        summary+=word.lower() + \" \""
   ]
  },
  {
   "cell_type": "code",
   "execution_count": 87,
   "id": "b9ee7290-cf7a-4b35-b0f7-96690a5ea611",
   "metadata": {},
   "outputs": [
    {
     "data": {
      "text/plain": [
       "\"i three vision india. in 3000 year histori peopl world come invad us, captur lands, conquer minds. from alexand onward greeks, turks, moguls, portuguese, british, french, dutch, came loot us, took ours. yet done nation.w conquer anyone. we grab land, cultur histori tri enforc way life them. why? becaus respect freedom others. that first vision freedom. i believ india got first vision 1857, start war independence. it freedom must protect nurtur build on. if free, one respect us.w 10 percent growth rate areas. our poverti level falling. our achiev global recognis today. yet lack self-confid see develop nation, self-reli self-assured. isn't incorrect? my second vision india development. for fifti year develop nation. it time see develop nation. we among top five nation world term gdp.i third vision. india must stand world. becaus i believ unless india stand world, one respect us. onli strength respect strength. we must strong militari power also econom power. both must go hand-in-hand. my good fortun work three great minds. dr.vikram sarabhai, dept. space, professor satish dhawan, succeed dr. brahm prakash, father nuclear material. i lucki work three close consid great opportun life.i hyderabad give lecture, 14 year-old girl ask autograph. i ask goal life is. she replied: i want live develop india. for her, i build develop india. you must proclaim india underdevelop nation; high develop nation.you say govern inefficient. you say law old. you say municip pick garbage. you say phone don't work, railway joke, airlin worst world, mail never reach destination. you say countri fed dog absolut pits. you say, say say. what it?dear indians, i echo j.f.kennedi word fellow american relat indian ……. “ask what we can do for india and do what has to be done to make india what america and other western countri are today.” \""
      ]
     },
     "execution_count": 87,
     "metadata": {},
     "output_type": "execute_result"
    }
   ],
   "source": [
    "summary"
   ]
  },
  {
   "cell_type": "markdown",
   "id": "a430ea5a-2d10-4c49-8aad-a07ac8a96fd3",
   "metadata": {},
   "source": [
    "# POS TAGGING"
   ]
  },
  {
   "cell_type": "code",
   "execution_count": 88,
   "id": "857a888d-3377-438f-83e9-733dcc758a1b",
   "metadata": {},
   "outputs": [],
   "source": [
    "sample='The San Francisco 49, despite facing injuries in the early season, have largely avoided season-ending issues'"
   ]
  },
  {
   "cell_type": "code",
   "execution_count": 95,
   "id": "00f4fd22-b10c-4406-a6f3-ed5679bf08a2",
   "metadata": {},
   "outputs": [],
   "source": [
    "tags= nltk.pos_tag(sample.split())\n",
    "    "
   ]
  },
  {
   "cell_type": "code",
   "execution_count": 96,
   "id": "2f20e002-4b95-487e-aed7-ff0c554302b5",
   "metadata": {},
   "outputs": [
    {
     "data": {
      "text/plain": [
       "[('The', 'DT'),\n",
       " ('San', 'NNP'),\n",
       " ('Francisco', 'NNP'),\n",
       " ('49,', 'CD'),\n",
       " ('despite', 'IN'),\n",
       " ('facing', 'VBG'),\n",
       " ('injuries', 'NNS'),\n",
       " ('in', 'IN'),\n",
       " ('the', 'DT'),\n",
       " ('early', 'JJ'),\n",
       " ('season,', 'NN'),\n",
       " ('have', 'VBP'),\n",
       " ('largely', 'RB'),\n",
       " ('avoided', 'VBN'),\n",
       " ('season-ending', 'NN'),\n",
       " ('issues', 'NNS')]"
      ]
     },
     "execution_count": 96,
     "metadata": {},
     "output_type": "execute_result"
    }
   ],
   "source": [
    "tags"
   ]
  },
  {
   "cell_type": "markdown",
   "id": "e8863669-eee5-42ff-8a60-7980a4c252e0",
   "metadata": {},
   "source": [
    "# Named Entity Recognition"
   ]
  },
  {
   "cell_type": "code",
   "execution_count": 101,
   "id": "b6592dba-9e3c-419a-9e54-4d85cddae95a",
   "metadata": {},
   "outputs": [],
   "source": [
    "sample='The San Francisco 49, despite facing injuries in the early season, have largely avoided season-ending issues'"
   ]
  },
  {
   "cell_type": "code",
   "execution_count": 104,
   "id": "851bde0d-9ca0-404e-9750-ebc8c5f7e770",
   "metadata": {},
   "outputs": [
    {
     "data": {
      "image/svg+xml": [
       "<svg baseProfile=\"full\" height=\"168px\" preserveAspectRatio=\"xMidYMid meet\" style=\"font-family: times, serif; font-weight: normal; font-style: normal; font-size: 16px\" version=\"1.1\" viewBox=\"0,0,1072.0,168.0\" width=\"1072px\" xmlns=\"http://www.w3.org/2000/svg\" xmlns:ev=\"http://www.w3.org/2001/xml-events\" xmlns:xlink=\"http://www.w3.org/1999/xlink\"><defs /><svg width=\"100%\" x=\"0\" y=\"0px\"><defs /><text text-anchor=\"middle\" x=\"50%\" y=\"16px\">S</text></svg><svg width=\"3.73134%\" x=\"0%\" y=\"48px\"><defs /><svg width=\"100%\" x=\"0\" y=\"0px\"><defs /><text text-anchor=\"middle\" x=\"50%\" y=\"16px\">The</text></svg><svg width=\"100%\" x=\"0%\" y=\"48px\"><defs /><svg width=\"100%\" x=\"0\" y=\"0px\"><defs /><text text-anchor=\"middle\" x=\"50%\" y=\"16px\">DT</text></svg></svg><line stroke=\"black\" x1=\"50%\" x2=\"50%\" y1=\"20px\" y2=\"48px\" /></svg><line stroke=\"black\" x1=\"50%\" x2=\"1.86567%\" y1=\"20px\" y2=\"48px\" /><svg width=\"10.4478%\" x=\"3.73134%\" y=\"48px\"><defs /><svg width=\"100%\" x=\"0\" y=\"0px\"><defs /><text text-anchor=\"middle\" x=\"50%\" y=\"16px\">ORGANIZATION</text></svg><svg width=\"100%\" x=\"0%\" y=\"48px\"><defs /><svg width=\"100%\" x=\"0\" y=\"0px\"><defs /><text text-anchor=\"middle\" x=\"50%\" y=\"16px\">San</text></svg><svg width=\"100%\" x=\"0%\" y=\"48px\"><defs /><svg width=\"100%\" x=\"0\" y=\"0px\"><defs /><text text-anchor=\"middle\" x=\"50%\" y=\"16px\">NNP</text></svg></svg><line stroke=\"black\" x1=\"50%\" x2=\"50%\" y1=\"20px\" y2=\"48px\" /></svg><line stroke=\"black\" x1=\"50%\" x2=\"50%\" y1=\"20px\" y2=\"48px\" /></svg><line stroke=\"black\" x1=\"50%\" x2=\"8.95522%\" y1=\"20px\" y2=\"48px\" /><svg width=\"8.20896%\" x=\"14.1791%\" y=\"48px\"><defs /><svg width=\"100%\" x=\"0\" y=\"0px\"><defs /><text text-anchor=\"middle\" x=\"50%\" y=\"16px\">Francisco</text></svg><svg width=\"100%\" x=\"0%\" y=\"48px\"><defs /><svg width=\"100%\" x=\"0\" y=\"0px\"><defs /><text text-anchor=\"middle\" x=\"50%\" y=\"16px\">NNP</text></svg></svg><line stroke=\"black\" x1=\"50%\" x2=\"50%\" y1=\"20px\" y2=\"48px\" /></svg><line stroke=\"black\" x1=\"50%\" x2=\"18.2836%\" y1=\"20px\" y2=\"48px\" /><svg width=\"3.73134%\" x=\"22.3881%\" y=\"48px\"><defs /><svg width=\"100%\" x=\"0\" y=\"0px\"><defs /><text text-anchor=\"middle\" x=\"50%\" y=\"16px\">49,</text></svg><svg width=\"100%\" x=\"0%\" y=\"48px\"><defs /><svg width=\"100%\" x=\"0\" y=\"0px\"><defs /><text text-anchor=\"middle\" x=\"50%\" y=\"16px\">CD</text></svg></svg><line stroke=\"black\" x1=\"50%\" x2=\"50%\" y1=\"20px\" y2=\"48px\" /></svg><line stroke=\"black\" x1=\"50%\" x2=\"24.2537%\" y1=\"20px\" y2=\"48px\" /><svg width=\"6.71642%\" x=\"26.1194%\" y=\"48px\"><defs /><svg width=\"100%\" x=\"0\" y=\"0px\"><defs /><text text-anchor=\"middle\" x=\"50%\" y=\"16px\">despite</text></svg><svg width=\"100%\" x=\"0%\" y=\"48px\"><defs /><svg width=\"100%\" x=\"0\" y=\"0px\"><defs /><text text-anchor=\"middle\" x=\"50%\" y=\"16px\">IN</text></svg></svg><line stroke=\"black\" x1=\"50%\" x2=\"50%\" y1=\"20px\" y2=\"48px\" /></svg><line stroke=\"black\" x1=\"50%\" x2=\"29.4776%\" y1=\"20px\" y2=\"48px\" /><svg width=\"5.97015%\" x=\"32.8358%\" y=\"48px\"><defs /><svg width=\"100%\" x=\"0\" y=\"0px\"><defs /><text text-anchor=\"middle\" x=\"50%\" y=\"16px\">facing</text></svg><svg width=\"100%\" x=\"0%\" y=\"48px\"><defs /><svg width=\"100%\" x=\"0\" y=\"0px\"><defs /><text text-anchor=\"middle\" x=\"50%\" y=\"16px\">VBG</text></svg></svg><line stroke=\"black\" x1=\"50%\" x2=\"50%\" y1=\"20px\" y2=\"48px\" /></svg><line stroke=\"black\" x1=\"50%\" x2=\"35.8209%\" y1=\"20px\" y2=\"48px\" /><svg width=\"7.46269%\" x=\"38.806%\" y=\"48px\"><defs /><svg width=\"100%\" x=\"0\" y=\"0px\"><defs /><text text-anchor=\"middle\" x=\"50%\" y=\"16px\">injuries</text></svg><svg width=\"100%\" x=\"0%\" y=\"48px\"><defs /><svg width=\"100%\" x=\"0\" y=\"0px\"><defs /><text text-anchor=\"middle\" x=\"50%\" y=\"16px\">NNS</text></svg></svg><line stroke=\"black\" x1=\"50%\" x2=\"50%\" y1=\"20px\" y2=\"48px\" /></svg><line stroke=\"black\" x1=\"50%\" x2=\"42.5373%\" y1=\"20px\" y2=\"48px\" /><svg width=\"2.98507%\" x=\"46.2687%\" y=\"48px\"><defs /><svg width=\"100%\" x=\"0\" y=\"0px\"><defs /><text text-anchor=\"middle\" x=\"50%\" y=\"16px\">in</text></svg><svg width=\"100%\" x=\"0%\" y=\"48px\"><defs /><svg width=\"100%\" x=\"0\" y=\"0px\"><defs /><text text-anchor=\"middle\" x=\"50%\" y=\"16px\">IN</text></svg></svg><line stroke=\"black\" x1=\"50%\" x2=\"50%\" y1=\"20px\" y2=\"48px\" /></svg><line stroke=\"black\" x1=\"50%\" x2=\"47.7612%\" y1=\"20px\" y2=\"48px\" /><svg width=\"3.73134%\" x=\"49.2537%\" y=\"48px\"><defs /><svg width=\"100%\" x=\"0\" y=\"0px\"><defs /><text text-anchor=\"middle\" x=\"50%\" y=\"16px\">the</text></svg><svg width=\"100%\" x=\"0%\" y=\"48px\"><defs /><svg width=\"100%\" x=\"0\" y=\"0px\"><defs /><text text-anchor=\"middle\" x=\"50%\" y=\"16px\">DT</text></svg></svg><line stroke=\"black\" x1=\"50%\" x2=\"50%\" y1=\"20px\" y2=\"48px\" /></svg><line stroke=\"black\" x1=\"50%\" x2=\"51.1194%\" y1=\"20px\" y2=\"48px\" /><svg width=\"5.22388%\" x=\"52.9851%\" y=\"48px\"><defs /><svg width=\"100%\" x=\"0\" y=\"0px\"><defs /><text text-anchor=\"middle\" x=\"50%\" y=\"16px\">early</text></svg><svg width=\"100%\" x=\"0%\" y=\"48px\"><defs /><svg width=\"100%\" x=\"0\" y=\"0px\"><defs /><text text-anchor=\"middle\" x=\"50%\" y=\"16px\">JJ</text></svg></svg><line stroke=\"black\" x1=\"50%\" x2=\"50%\" y1=\"20px\" y2=\"48px\" /></svg><line stroke=\"black\" x1=\"50%\" x2=\"55.597%\" y1=\"20px\" y2=\"48px\" /><svg width=\"6.71642%\" x=\"58.209%\" y=\"48px\"><defs /><svg width=\"100%\" x=\"0\" y=\"0px\"><defs /><text text-anchor=\"middle\" x=\"50%\" y=\"16px\">season,</text></svg><svg width=\"100%\" x=\"0%\" y=\"48px\"><defs /><svg width=\"100%\" x=\"0\" y=\"0px\"><defs /><text text-anchor=\"middle\" x=\"50%\" y=\"16px\">NN</text></svg></svg><line stroke=\"black\" x1=\"50%\" x2=\"50%\" y1=\"20px\" y2=\"48px\" /></svg><line stroke=\"black\" x1=\"50%\" x2=\"61.5672%\" y1=\"20px\" y2=\"48px\" /><svg width=\"4.47761%\" x=\"64.9254%\" y=\"48px\"><defs /><svg width=\"100%\" x=\"0\" y=\"0px\"><defs /><text text-anchor=\"middle\" x=\"50%\" y=\"16px\">have</text></svg><svg width=\"100%\" x=\"0%\" y=\"48px\"><defs /><svg width=\"100%\" x=\"0\" y=\"0px\"><defs /><text text-anchor=\"middle\" x=\"50%\" y=\"16px\">VBP</text></svg></svg><line stroke=\"black\" x1=\"50%\" x2=\"50%\" y1=\"20px\" y2=\"48px\" /></svg><line stroke=\"black\" x1=\"50%\" x2=\"67.1642%\" y1=\"20px\" y2=\"48px\" /><svg width=\"6.71642%\" x=\"69.403%\" y=\"48px\"><defs /><svg width=\"100%\" x=\"0\" y=\"0px\"><defs /><text text-anchor=\"middle\" x=\"50%\" y=\"16px\">largely</text></svg><svg width=\"100%\" x=\"0%\" y=\"48px\"><defs /><svg width=\"100%\" x=\"0\" y=\"0px\"><defs /><text text-anchor=\"middle\" x=\"50%\" y=\"16px\">RB</text></svg></svg><line stroke=\"black\" x1=\"50%\" x2=\"50%\" y1=\"20px\" y2=\"48px\" /></svg><line stroke=\"black\" x1=\"50%\" x2=\"72.7612%\" y1=\"20px\" y2=\"48px\" /><svg width=\"6.71642%\" x=\"76.1194%\" y=\"48px\"><defs /><svg width=\"100%\" x=\"0\" y=\"0px\"><defs /><text text-anchor=\"middle\" x=\"50%\" y=\"16px\">avoided</text></svg><svg width=\"100%\" x=\"0%\" y=\"48px\"><defs /><svg width=\"100%\" x=\"0\" y=\"0px\"><defs /><text text-anchor=\"middle\" x=\"50%\" y=\"16px\">VBN</text></svg></svg><line stroke=\"black\" x1=\"50%\" x2=\"50%\" y1=\"20px\" y2=\"48px\" /></svg><line stroke=\"black\" x1=\"50%\" x2=\"79.4776%\" y1=\"20px\" y2=\"48px\" /><svg width=\"11.194%\" x=\"82.8358%\" y=\"48px\"><defs /><svg width=\"100%\" x=\"0\" y=\"0px\"><defs /><text text-anchor=\"middle\" x=\"50%\" y=\"16px\">season-ending</text></svg><svg width=\"100%\" x=\"0%\" y=\"48px\"><defs /><svg width=\"100%\" x=\"0\" y=\"0px\"><defs /><text text-anchor=\"middle\" x=\"50%\" y=\"16px\">NN</text></svg></svg><line stroke=\"black\" x1=\"50%\" x2=\"50%\" y1=\"20px\" y2=\"48px\" /></svg><line stroke=\"black\" x1=\"50%\" x2=\"88.4328%\" y1=\"20px\" y2=\"48px\" /><svg width=\"5.97015%\" x=\"94.0299%\" y=\"48px\"><defs /><svg width=\"100%\" x=\"0\" y=\"0px\"><defs /><text text-anchor=\"middle\" x=\"50%\" y=\"16px\">issues</text></svg><svg width=\"100%\" x=\"0%\" y=\"48px\"><defs /><svg width=\"100%\" x=\"0\" y=\"0px\"><defs /><text text-anchor=\"middle\" x=\"50%\" y=\"16px\">NNS</text></svg></svg><line stroke=\"black\" x1=\"50%\" x2=\"50%\" y1=\"20px\" y2=\"48px\" /></svg><line stroke=\"black\" x1=\"50%\" x2=\"97.0149%\" y1=\"20px\" y2=\"48px\" /></svg>"
      ],
      "text/plain": [
       "Tree('S', [('The', 'DT'), Tree('ORGANIZATION', [('San', 'NNP')]), ('Francisco', 'NNP'), ('49,', 'CD'), ('despite', 'IN'), ('facing', 'VBG'), ('injuries', 'NNS'), ('in', 'IN'), ('the', 'DT'), ('early', 'JJ'), ('season,', 'NN'), ('have', 'VBP'), ('largely', 'RB'), ('avoided', 'VBN'), ('season-ending', 'NN'), ('issues', 'NNS')])"
      ]
     },
     "execution_count": 104,
     "metadata": {},
     "output_type": "execute_result"
    }
   ],
   "source": [
    "nltk.ne_chunk(tags)"
   ]
  },
  {
   "cell_type": "code",
   "execution_count": null,
   "id": "c1aa67ce-66eb-40c0-ac73-33f0261a2a97",
   "metadata": {},
   "outputs": [],
   "source": []
  }
 ],
 "metadata": {
  "kernelspec": {
   "display_name": "Python 3 (ipykernel)",
   "language": "python",
   "name": "python3"
  },
  "language_info": {
   "codemirror_mode": {
    "name": "ipython",
    "version": 3
   },
   "file_extension": ".py",
   "mimetype": "text/x-python",
   "name": "python",
   "nbconvert_exporter": "python",
   "pygments_lexer": "ipython3",
   "version": "3.12.3"
  }
 },
 "nbformat": 4,
 "nbformat_minor": 5
}
