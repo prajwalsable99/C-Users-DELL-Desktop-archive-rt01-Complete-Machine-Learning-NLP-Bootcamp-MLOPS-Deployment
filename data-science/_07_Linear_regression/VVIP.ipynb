{
 "cells": [
  {
   "cell_type": "markdown",
   "id": "189fe1ae-14d4-4276-837e-0099d3ccaef1",
   "metadata": {},
   "source": [
    "# lasso ==> feature selection (l1)\n",
    "# ridge ==> reduce overfitting  (l2)\n",
    "# elastic ==>combination of both"
   ]
  },
  {
   "cell_type": "markdown",
   "id": "6921d6e3-a18d-47be-8a23-a0d2287c907d",
   "metadata": {},
   "source": [
    "# types of cross validation"
   ]
  },
  {
   "cell_type": "code",
   "execution_count": 2,
   "id": "f9cb3d30-bf9f-4a9d-8909-463ec82acf94",
   "metadata": {},
   "outputs": [],
   "source": [
    "# 1.hold out\n",
    "# 2.llocv\n",
    "# 3.k fold\n",
    "# 4.stratified "
   ]
  },
  {
   "cell_type": "code",
   "execution_count": null,
   "id": "8185b522-6a4a-4a27-a99e-62ece263f98d",
   "metadata": {},
   "outputs": [],
   "source": []
  }
 ],
 "metadata": {
  "kernelspec": {
   "display_name": "Python 3 (ipykernel)",
   "language": "python",
   "name": "python3"
  },
  "language_info": {
   "codemirror_mode": {
    "name": "ipython",
    "version": 3
   },
   "file_extension": ".py",
   "mimetype": "text/x-python",
   "name": "python",
   "nbconvert_exporter": "python",
   "pygments_lexer": "ipython3",
   "version": "3.12.3"
  }
 },
 "nbformat": 4,
 "nbformat_minor": 5
}
