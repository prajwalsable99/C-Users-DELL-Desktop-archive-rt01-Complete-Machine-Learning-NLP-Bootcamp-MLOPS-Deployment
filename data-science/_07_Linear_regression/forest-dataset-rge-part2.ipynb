{
 "cells": [
  {
   "cell_type": "code",
   "execution_count": 1,
   "id": "649499ad-8ac3-4f74-83e3-71f771ee02fa",
   "metadata": {},
   "outputs": [],
   "source": [
    "import numpy as np\n",
    "import pandas as pd\n",
    "import matplotlib.pyplot as plt \n",
    "import seaborn as sns\n"
   ]
  },
  {
   "cell_type": "code",
   "execution_count": 2,
   "id": "f6d9cb6a-8328-472c-9e02-9a796c6c78c4",
   "metadata": {},
   "outputs": [],
   "source": [
    "df=pd.read_csv('clean_forest_dataset.csv')"
   ]
  },
  {
   "cell_type": "code",
   "execution_count": 3,
   "id": "0eb645f8-f10a-4b80-aebe-071e5bfa245b",
   "metadata": {},
   "outputs": [
    {
     "name": "stdout",
     "output_type": "stream",
     "text": [
      "<class 'pandas.core.frame.DataFrame'>\n",
      "RangeIndex: 243 entries, 0 to 242\n",
      "Data columns (total 15 columns):\n",
      " #   Column       Non-Null Count  Dtype  \n",
      "---  ------       --------------  -----  \n",
      " 0   day          243 non-null    int64  \n",
      " 1   month        243 non-null    int64  \n",
      " 2   year         243 non-null    int64  \n",
      " 3   Temperature  243 non-null    int64  \n",
      " 4    RH          243 non-null    int64  \n",
      " 5    Ws          243 non-null    int64  \n",
      " 6   Rain         243 non-null    float64\n",
      " 7   FFMC         243 non-null    float64\n",
      " 8   DMC          243 non-null    float64\n",
      " 9   DC           243 non-null    float64\n",
      " 10  ISI          243 non-null    float64\n",
      " 11  BUI          243 non-null    float64\n",
      " 12  FWI          243 non-null    float64\n",
      " 13  Classes      243 non-null    object \n",
      " 14  Region       243 non-null    int64  \n",
      "dtypes: float64(7), int64(7), object(1)\n",
      "memory usage: 28.6+ KB\n"
     ]
    }
   ],
   "source": [
    "df.info()"
   ]
  },
  {
   "cell_type": "code",
   "execution_count": 4,
   "id": "8e9fa0b2-5f90-4118-8660-2803325d7e77",
   "metadata": {},
   "outputs": [
    {
     "data": {
      "text/html": [
       "<div>\n",
       "<style scoped>\n",
       "    .dataframe tbody tr th:only-of-type {\n",
       "        vertical-align: middle;\n",
       "    }\n",
       "\n",
       "    .dataframe tbody tr th {\n",
       "        vertical-align: top;\n",
       "    }\n",
       "\n",
       "    .dataframe thead th {\n",
       "        text-align: right;\n",
       "    }\n",
       "</style>\n",
       "<table border=\"1\" class=\"dataframe\">\n",
       "  <thead>\n",
       "    <tr style=\"text-align: right;\">\n",
       "      <th></th>\n",
       "      <th>day</th>\n",
       "      <th>month</th>\n",
       "      <th>year</th>\n",
       "      <th>Temperature</th>\n",
       "      <th>RH</th>\n",
       "      <th>Ws</th>\n",
       "      <th>Rain</th>\n",
       "      <th>FFMC</th>\n",
       "      <th>DMC</th>\n",
       "      <th>DC</th>\n",
       "      <th>ISI</th>\n",
       "      <th>BUI</th>\n",
       "      <th>FWI</th>\n",
       "      <th>Classes</th>\n",
       "      <th>Region</th>\n",
       "    </tr>\n",
       "  </thead>\n",
       "  <tbody>\n",
       "    <tr>\n",
       "      <th>0</th>\n",
       "      <td>1</td>\n",
       "      <td>6</td>\n",
       "      <td>2012</td>\n",
       "      <td>29</td>\n",
       "      <td>57</td>\n",
       "      <td>18</td>\n",
       "      <td>0.0</td>\n",
       "      <td>65.7</td>\n",
       "      <td>3.4</td>\n",
       "      <td>7.6</td>\n",
       "      <td>1.3</td>\n",
       "      <td>3.4</td>\n",
       "      <td>0.5</td>\n",
       "      <td>not fire</td>\n",
       "      <td>0</td>\n",
       "    </tr>\n",
       "    <tr>\n",
       "      <th>1</th>\n",
       "      <td>2</td>\n",
       "      <td>6</td>\n",
       "      <td>2012</td>\n",
       "      <td>29</td>\n",
       "      <td>61</td>\n",
       "      <td>13</td>\n",
       "      <td>1.3</td>\n",
       "      <td>64.4</td>\n",
       "      <td>4.1</td>\n",
       "      <td>7.6</td>\n",
       "      <td>1.0</td>\n",
       "      <td>3.9</td>\n",
       "      <td>0.4</td>\n",
       "      <td>not fire</td>\n",
       "      <td>0</td>\n",
       "    </tr>\n",
       "    <tr>\n",
       "      <th>2</th>\n",
       "      <td>3</td>\n",
       "      <td>6</td>\n",
       "      <td>2012</td>\n",
       "      <td>26</td>\n",
       "      <td>82</td>\n",
       "      <td>22</td>\n",
       "      <td>13.1</td>\n",
       "      <td>47.1</td>\n",
       "      <td>2.5</td>\n",
       "      <td>7.1</td>\n",
       "      <td>0.3</td>\n",
       "      <td>2.7</td>\n",
       "      <td>0.1</td>\n",
       "      <td>not fire</td>\n",
       "      <td>0</td>\n",
       "    </tr>\n",
       "    <tr>\n",
       "      <th>3</th>\n",
       "      <td>4</td>\n",
       "      <td>6</td>\n",
       "      <td>2012</td>\n",
       "      <td>25</td>\n",
       "      <td>89</td>\n",
       "      <td>13</td>\n",
       "      <td>2.5</td>\n",
       "      <td>28.6</td>\n",
       "      <td>1.3</td>\n",
       "      <td>6.9</td>\n",
       "      <td>0.0</td>\n",
       "      <td>1.7</td>\n",
       "      <td>0.0</td>\n",
       "      <td>not fire</td>\n",
       "      <td>0</td>\n",
       "    </tr>\n",
       "    <tr>\n",
       "      <th>4</th>\n",
       "      <td>5</td>\n",
       "      <td>6</td>\n",
       "      <td>2012</td>\n",
       "      <td>27</td>\n",
       "      <td>77</td>\n",
       "      <td>16</td>\n",
       "      <td>0.0</td>\n",
       "      <td>64.8</td>\n",
       "      <td>3.0</td>\n",
       "      <td>14.2</td>\n",
       "      <td>1.2</td>\n",
       "      <td>3.9</td>\n",
       "      <td>0.5</td>\n",
       "      <td>not fire</td>\n",
       "      <td>0</td>\n",
       "    </tr>\n",
       "  </tbody>\n",
       "</table>\n",
       "</div>"
      ],
      "text/plain": [
       "   day  month  year  Temperature   RH   Ws  Rain   FFMC  DMC    DC  ISI  BUI  \\\n",
       "0    1      6  2012           29   57   18    0.0  65.7  3.4   7.6  1.3  3.4   \n",
       "1    2      6  2012           29   61   13    1.3  64.4  4.1   7.6  1.0  3.9   \n",
       "2    3      6  2012           26   82   22   13.1  47.1  2.5   7.1  0.3  2.7   \n",
       "3    4      6  2012           25   89   13    2.5  28.6  1.3   6.9  0.0  1.7   \n",
       "4    5      6  2012           27   77   16    0.0  64.8  3.0  14.2  1.2  3.9   \n",
       "\n",
       "   FWI Classes    Region  \n",
       "0  0.5  not fire       0  \n",
       "1  0.4  not fire       0  \n",
       "2  0.1  not fire       0  \n",
       "3  0.0  not fire       0  \n",
       "4  0.5  not fire       0  "
      ]
     },
     "execution_count": 4,
     "metadata": {},
     "output_type": "execute_result"
    }
   ],
   "source": [
    "df.head()"
   ]
  },
  {
   "cell_type": "code",
   "execution_count": 5,
   "id": "f5ca8f3e-4be3-4292-9ad5-13918df0602a",
   "metadata": {},
   "outputs": [
    {
     "data": {
      "text/plain": [
       "Index(['day', 'month', 'year', 'Temperature', ' RH', ' Ws', 'Rain ', 'FFMC',\n",
       "       'DMC', 'DC', 'ISI', 'BUI', 'FWI', 'Classes  ', 'Region'],\n",
       "      dtype='object')"
      ]
     },
     "execution_count": 5,
     "metadata": {},
     "output_type": "execute_result"
    }
   ],
   "source": [
    "df.columns"
   ]
  },
  {
   "cell_type": "code",
   "execution_count": 6,
   "id": "efb9bdba-be22-40eb-b536-2f32a28f8214",
   "metadata": {},
   "outputs": [],
   "source": [
    "df.drop(['day','month','year'],axis=1,inplace=True)"
   ]
  },
  {
   "cell_type": "code",
   "execution_count": 7,
   "id": "066c1ebc-2aab-4d4f-9a73-2da8de4df3ae",
   "metadata": {},
   "outputs": [],
   "source": [
    "df['Classes  '].value_counts()\n",
    "df['Classes  ']=df['Classes  '].map({ \"not fire\" : 0, \"fire\":1 })"
   ]
  },
  {
   "cell_type": "code",
   "execution_count": 8,
   "id": "f2b64aad-5ebc-4b54-89c4-b8e5051cb634",
   "metadata": {},
   "outputs": [],
   "source": [
    "x=df.drop(['FWI'],axis=1)\n",
    "y=df['FWI']"
   ]
  },
  {
   "cell_type": "code",
   "execution_count": 9,
   "id": "e674ac0c-da8c-4865-a36c-20ea120c4c30",
   "metadata": {},
   "outputs": [],
   "source": [
    "from sklearn.model_selection import train_test_split\n",
    "x_train,x_test,y_train,y_test=train_test_split(x,y,test_size=0.25,random_state=42)\n"
   ]
  },
  {
   "cell_type": "code",
   "execution_count": 10,
   "id": "c62fa92b-7ba2-40a6-91ba-215f7d9a8920",
   "metadata": {},
   "outputs": [],
   "source": [
    "def corelation( dataset, threshold):\n",
    "    col_corr= set()\n",
    "    corr=dataset.corr()\n",
    "    for i in range(len(corr.columns)):\n",
    "        for j in range(i):\n",
    "            if abs(corr.iloc[i,j]) > threshold :\n",
    "                colname=corr.columns[i]\n",
    "                col_corr.add(colname)\n",
    "    return col_corr\n",
    "    "
   ]
  },
  {
   "cell_type": "code",
   "execution_count": 11,
   "id": "1c68439e-387c-4b64-897a-2b4f1135408f",
   "metadata": {},
   "outputs": [],
   "source": [
    "todrop=corelation(x_train,0.8)"
   ]
  },
  {
   "cell_type": "code",
   "execution_count": 12,
   "id": "3c3aa5cc-ce90-4556-b428-2a82828e217d",
   "metadata": {},
   "outputs": [],
   "source": [
    "# drop if correaltion is more than threhsold"
   ]
  },
  {
   "cell_type": "code",
   "execution_count": 13,
   "id": "2746bd4a-1741-4f39-b165-84220a348dba",
   "metadata": {},
   "outputs": [],
   "source": [
    "x_train.drop (list(todrop),axis=1,inplace=True)\n",
    "x_test.drop (list(todrop),axis=1,inplace=True)"
   ]
  },
  {
   "cell_type": "code",
   "execution_count": 14,
   "id": "b9439313-7ddc-4aba-b55a-f826e77b27f3",
   "metadata": {},
   "outputs": [
    {
     "data": {
      "text/plain": [
       "((182, 9), (61, 9))"
      ]
     },
     "execution_count": 14,
     "metadata": {},
     "output_type": "execute_result"
    }
   ],
   "source": [
    "x_train.shape,x_test.shape"
   ]
  },
  {
   "cell_type": "code",
   "execution_count": 15,
   "id": "d1218809-dd0c-4c8f-b3db-cfd493ed16ab",
   "metadata": {},
   "outputs": [],
   "source": [
    "from sklearn.preprocessing import StandardScaler\n",
    "scalar=StandardScaler()\n",
    "x_train_sc=scalar.fit_transform(x_train)\n",
    "x_test_sc=scalar.transform(x_test)"
   ]
  },
  {
   "cell_type": "code",
   "execution_count": 16,
   "id": "0b0be5de-b81b-4d48-b298-6fef9c0962fa",
   "metadata": {},
   "outputs": [
    {
     "data": {
      "text/plain": [
       "<Axes: >"
      ]
     },
     "execution_count": 16,
     "metadata": {},
     "output_type": "execute_result"
    },
    {
     "data": {
      "image/png": "[encoded data removed]",
      "text/plain": [
       "<Figure size 1000x800 with 2 Axes>"
      ]
     },
     "metadata": {},
     "output_type": "display_data"
    }
   ],
   "source": [
    "plt.figure(figsize=(10,8))\n",
    "plt.subplot(1,2,1)\n",
    "sns.boxplot(data=x_train)\n",
    "plt.subplot(1,2,2)\n",
    "sns.boxplot(data=x_train_sc)"
   ]
  },
  {
   "cell_type": "code",
   "execution_count": 17,
   "id": "370949be-4292-44a3-82c8-4ac52b2ff3d2",
   "metadata": {},
   "outputs": [],
   "source": [
    "from sklearn.metrics import r2_score,mean_absolute_error,mean_squared_error\n"
   ]
  },
  {
   "cell_type": "code",
   "execution_count": 18,
   "id": "f9aa8893-1d29-43a9-a667-18e84cf4076c",
   "metadata": {},
   "outputs": [
    {
     "data": {
      "text/plain": [
       "('r2-score :', 0.9847657384266951, 'rmse :', 0.8211435242265253)"
      ]
     },
     "execution_count": 18,
     "metadata": {},
     "output_type": "execute_result"
    }
   ],
   "source": [
    "from sklearn.linear_model import LinearRegression\n",
    "linearReg=LinearRegression()\n",
    "linearReg.fit(x_train_sc,y_train)\n",
    "y_pred=linearReg.predict(x_test_sc)\n",
    "\"r2-score :\" , r2_score(y_test,y_pred),\"rmse :\",np.sqrt(mean_squared_error(y_test,y_pred))"
   ]
  },
  {
   "cell_type": "code",
   "execution_count": 19,
   "id": "8c370f9e-f7fc-46c1-b2a9-491b7a69927e",
   "metadata": {},
   "outputs": [],
   "source": [
    "def trainModel(modelName):\n",
    "    model=modelName()\n",
    "    model.fit(x_train_sc,y_train)\n",
    "    y_pred=model.predict(x_test_sc)\n",
    "    return \"r2-score :\" , r2_score(y_test,y_pred),\"rmse :\",np.sqrt(mean_squared_error(y_test,y_pred))\n",
    "    "
   ]
  },
  {
   "cell_type": "code",
   "execution_count": 20,
   "id": "64241535-86ec-4a99-8b86-70032c71aa2d",
   "metadata": {},
   "outputs": [
    {
     "data": {
      "text/plain": [
       "('r2-score :', 0.9847657384266951, 'rmse :', 0.8211435242265253)"
      ]
     },
     "execution_count": 20,
     "metadata": {},
     "output_type": "execute_result"
    }
   ],
   "source": [
    "trainModel(LinearRegression)"
   ]
  },
  {
   "cell_type": "code",
   "execution_count": 21,
   "id": "6b84e21f-d51d-4af0-beb3-edb04b6cea57",
   "metadata": {},
   "outputs": [],
   "source": [
    "from sklearn.linear_model import Lasso,Ridge,ElasticNet"
   ]
  },
  {
   "cell_type": "code",
   "execution_count": 22,
   "id": "b0a030e3-a075-43a3-a71f-37bd29c88b91",
   "metadata": {},
   "outputs": [
    {
     "data": {
      "text/plain": [
       "('r2-score :', 0.9492020263112388, 'rmse :', 1.4994485292591664)"
      ]
     },
     "execution_count": 22,
     "metadata": {},
     "output_type": "execute_result"
    }
   ],
   "source": [
    "trainModel(Lasso)"
   ]
  },
  {
   "cell_type": "code",
   "execution_count": 23,
   "id": "2e6fb44f-32c1-40db-b846-62238ac1b614",
   "metadata": {},
   "outputs": [
    {
     "data": {
      "text/plain": [
       "('r2-score :', 0.9842993364555512, 'rmse :', 0.8336185529456561)"
      ]
     },
     "execution_count": 23,
     "metadata": {},
     "output_type": "execute_result"
    }
   ],
   "source": [
    "trainModel(Ridge)"
   ]
  },
  {
   "cell_type": "code",
   "execution_count": 24,
   "id": "eb092058-4dc6-42f9-b62b-1274d9a49885",
   "metadata": {},
   "outputs": [
    {
     "data": {
      "text/plain": [
       "('r2-score :', 0.8753460589519703, 'rmse :', 2.3488829474933874)"
      ]
     },
     "execution_count": 24,
     "metadata": {},
     "output_type": "execute_result"
    }
   ],
   "source": [
    "trainModel(ElasticNet)"
   ]
  },
  {
   "cell_type": "code",
   "execution_count": null,
   "id": "97f3ec8f-fd11-4365-b9e3-136d51f7ae0b",
   "metadata": {},
   "outputs": [],
   "source": []
  },
  {
   "cell_type": "code",
   "execution_count": 25,
   "id": "7bed2da1-fbcc-4308-ba95-47b95c515b81",
   "metadata": {},
   "outputs": [],
   "source": [
    "# now with cross validation"
   ]
  },
  {
   "cell_type": "code",
   "execution_count": 26,
   "id": "baf8f89b-cacb-41d4-bf53-3ac8d2cb7fb0",
   "metadata": {},
   "outputs": [],
   "source": [
    "from sklearn.linear_model import LassoCV,RidgeCV,ElasticNetCV"
   ]
  },
  {
   "cell_type": "code",
   "execution_count": 27,
   "id": "4f3e7110-f88b-4f7b-8f8c-1504d0fc0e13",
   "metadata": {},
   "outputs": [],
   "source": [
    "def trainModelwithCV(model):\n",
    "    \n",
    "    model.fit(x_train_sc,y_train)\n",
    "    y_pred=model.predict(x_test_sc)\n",
    "    print(\"r2-score :\" , r2_score(y_test,y_pred),\"rmse :\",np.sqrt(mean_squared_error(y_test,y_pred)))\n",
    "    \n",
    "    return  model\n",
    "    "
   ]
  },
  {
   "cell_type": "code",
   "execution_count": 28,
   "id": "e4314ecb-9db3-42d4-a71e-9cc4be249a9f",
   "metadata": {},
   "outputs": [
    {
     "name": "stdout",
     "output_type": "stream",
     "text": [
      "r2-score : 0.9820946715928275 rmse : 0.8902244410677355\n"
     ]
    }
   ],
   "source": [
    "lassocv=LassoCV(cv=5)\n",
    "lassocv= trainModelwithCV(lassocv)"
   ]
  },
  {
   "cell_type": "code",
   "execution_count": 29,
   "id": "ff76538e-28a8-4502-9952-a45185db34ca",
   "metadata": {},
   "outputs": [],
   "source": [
    "# lassocv.mse_path_"
   ]
  },
  {
   "cell_type": "code",
   "execution_count": 30,
   "id": "de05c11f-41a8-465b-993c-7cd04e0ad4e9",
   "metadata": {},
   "outputs": [
    {
     "name": "stdout",
     "output_type": "stream",
     "text": [
      "r2-score : 0.9842993364555512 rmse : 0.8336185529456561\n"
     ]
    }
   ],
   "source": [
    "ridgecv=RidgeCV(cv=5)\n",
    "ridgecv= trainModelwithCV(ridgecv)"
   ]
  },
  {
   "cell_type": "code",
   "execution_count": 31,
   "id": "a1ee965f-505a-403e-9194-c2a4269eaba4",
   "metadata": {},
   "outputs": [
    {
     "name": "stdout",
     "output_type": "stream",
     "text": [
      "r2-score : 0.9814217587854941 rmse : 0.906798236449336\n"
     ]
    }
   ],
   "source": [
    "elCV=ElasticNetCV(cv=5)\n",
    "elCV=trainModelwithCV(elCV)"
   ]
  },
  {
   "cell_type": "code",
   "execution_count": 32,
   "id": "eb27f1f3-e882-4cd5-939b-eb8419380775",
   "metadata": {},
   "outputs": [],
   "source": [
    "import pickle"
   ]
  },
  {
   "cell_type": "code",
   "execution_count": 33,
   "id": "2067b9b6-b271-43d6-b13c-70a007ba030f",
   "metadata": {},
   "outputs": [],
   "source": [
    "pickle.dump( scalar, open('scalar.pkl','wb'))"
   ]
  },
  {
   "cell_type": "code",
   "execution_count": 34,
   "id": "76883376-225a-4de2-aa8a-1b184555846c",
   "metadata": {},
   "outputs": [],
   "source": [
    "pickle.dump( elCV, open('forest-model.pkl','wb'))"
   ]
  },
  {
   "cell_type": "code",
   "execution_count": null,
   "id": "65f712d1-a694-4aa3-a59c-6e805e2d0846",
   "metadata": {},
   "outputs": [],
   "source": []
  },
  {
   "cell_type": "code",
   "execution_count": null,
   "id": "99da8fa7-fdd9-447c-bb45-1a1afe92ea17",
   "metadata": {},
   "outputs": [],
   "source": []
  },
  {
   "cell_type": "code",
   "execution_count": null,
   "id": "03459dd6-d85f-41a8-9df8-1fd393b88d82",
   "metadata": {},
   "outputs": [],
   "source": []
  },
  {
   "cell_type": "code",
   "execution_count": null,
   "id": "79ab2366-09f9-41f1-bf5e-0df9486c82d2",
   "metadata": {},
   "outputs": [],
   "source": []
  },
  {
   "cell_type": "code",
   "execution_count": null,
   "id": "e4bb30ff-89d7-43a2-a04b-916324fd74d3",
   "metadata": {},
   "outputs": [],
   "source": []
  },
  {
   "cell_type": "code",
   "execution_count": null,
   "id": "0e96baed-79e5-4e3b-82ea-ed4b993c77bf",
   "metadata": {},
   "outputs": [],
   "source": []
  },
  {
   "cell_type": "code",
   "execution_count": null,
   "id": "549813aa-9ccc-4000-9d5e-22dd973ff024",
   "metadata": {},
   "outputs": [],
   "source": []
  },
  {
   "cell_type": "code",
   "execution_count": null,
   "id": "3b4c2255-71c3-4a99-bc60-7d2f02220d7b",
   "metadata": {},
   "outputs": [],
   "source": []
  },
  {
   "cell_type": "code",
   "execution_count": null,
   "id": "aee8cb79-6804-44f2-a685-711f29ed76a3",
   "metadata": {},
   "outputs": [],
   "source": []
  },
  {
   "cell_type": "code",
   "execution_count": null,
   "id": "e6e49065-d7c2-4681-9366-ed46ae088ef7",
   "metadata": {},
   "outputs": [],
   "source": []
  },
  {
   "cell_type": "code",
   "execution_count": null,
   "id": "1885cb0a-98c3-45c5-b203-42211eca33f2",
   "metadata": {},
   "outputs": [],
   "source": []
  },
  {
   "cell_type": "code",
   "execution_count": null,
   "id": "018d41ad-a24b-4892-b92c-7ad47c340b64",
   "metadata": {},
   "outputs": [],
   "source": []
  },
  {
   "cell_type": "code",
   "execution_count": null,
   "id": "3e2cbc6e-4e13-4281-883c-40ec600adc5b",
   "metadata": {},
   "outputs": [],
   "source": []
  },
  {
   "cell_type": "code",
   "execution_count": null,
   "id": "8353ec53-e9cc-4534-9f89-85503f52b231",
   "metadata": {},
   "outputs": [],
   "source": []
  },
  {
   "cell_type": "code",
   "execution_count": null,
   "id": "df6b9c34-9125-4ded-aa55-cd54990f1c82",
   "metadata": {},
   "outputs": [],
   "source": []
  },
  {
   "cell_type": "code",
   "execution_count": null,
   "id": "6ca212d8-5e44-4a54-9910-15a565b5d92e",
   "metadata": {},
   "outputs": [],
   "source": []
  },
  {
   "cell_type": "code",
   "execution_count": null,
   "id": "031bcbff-0bc9-4fda-ae9b-336b5e441427",
   "metadata": {},
   "outputs": [],
   "source": []
  },
  {
   "cell_type": "code",
   "execution_count": null,
   "id": "6ef2430e-1ea5-4f63-8057-eccc0ecaf036",
   "metadata": {},
   "outputs": [],
   "source": []
  },
  {
   "cell_type": "code",
   "execution_count": null,
   "id": "a450c5f5-e32d-4f32-b44b-756bffc56fd3",
   "metadata": {},
   "outputs": [],
   "source": []
  },
  {
   "cell_type": "code",
   "execution_count": null,
   "id": "10bd5bb3-dc3b-4ef5-9e83-153b4020bd45",
   "metadata": {},
   "outputs": [],
   "source": []
  },
  {
   "cell_type": "code",
   "execution_count": null,
   "id": "ad32c20a-a3be-4e17-b5f3-788e31ffea6f",
   "metadata": {},
   "outputs": [],
   "source": []
  },
  {
   "cell_type": "code",
   "execution_count": null,
   "id": "84e22247-279c-4f80-8b74-5a2b7ad51c03",
   "metadata": {},
   "outputs": [],
   "source": []
  },
  {
   "cell_type": "code",
   "execution_count": null,
   "id": "d58798ed-541d-4b8b-be12-6774ead9b125",
   "metadata": {},
   "outputs": [],
   "source": []
  }
 ],
 "metadata": {
  "kernelspec": {
   "display_name": "Python 3 (ipykernel)",
   "language": "python",
   "name": "python3"
  },
  "language_info": {
   "codemirror_mode": {
    "name": "ipython",
    "version": 3
   },
   "file_extension": ".py",
   "mimetype": "text/x-python",
   "name": "python",
   "nbconvert_exporter": "python",
   "pygments_lexer": "ipython3",
   "version": "3.12.3"
  }
 },
 "nbformat": 4,
 "nbformat_minor": 5
}
