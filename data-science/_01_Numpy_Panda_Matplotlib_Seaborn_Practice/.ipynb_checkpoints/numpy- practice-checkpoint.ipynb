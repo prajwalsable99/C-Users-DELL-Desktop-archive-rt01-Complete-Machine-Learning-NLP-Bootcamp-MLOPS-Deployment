{
 "cells": [
  {
   "cell_type": "code",
   "execution_count": 23,
   "id": "6fbd6b26-89d1-4794-82b2-9e32683f9d23",
   "metadata": {},
   "outputs": [],
   "source": [
    "import numpy as np"
   ]
  },
  {
   "cell_type": "code",
   "execution_count": 24,
   "id": "f7f21789-7524-4e37-8413-df49c7309b72",
   "metadata": {},
   "outputs": [],
   "source": [
    "arr=np.array([1,2,3])"
   ]
  },
  {
   "cell_type": "code",
   "execution_count": 25,
   "id": "358a1f4d-c20b-48d1-bc62-1f8bb8bfbd22",
   "metadata": {},
   "outputs": [
    {
     "data": {
      "text/plain": [
       "array([1, 2, 3])"
      ]
     },
     "execution_count": 25,
     "metadata": {},
     "output_type": "execute_result"
    }
   ],
   "source": [
    "arr"
   ]
  },
  {
   "cell_type": "code",
   "execution_count": 26,
   "id": "168bc932-a992-4d46-b366-cd48eabbe545",
   "metadata": {},
   "outputs": [
    {
     "data": {
      "text/plain": [
       "(3,)"
      ]
     },
     "execution_count": 26,
     "metadata": {},
     "output_type": "execute_result"
    }
   ],
   "source": [
    "arr.shape"
   ]
  },
  {
   "cell_type": "code",
   "execution_count": 27,
   "id": "ec1e6c01-44df-46e0-b900-60e4f2164003",
   "metadata": {},
   "outputs": [
    {
     "data": {
      "text/plain": [
       "numpy.ndarray"
      ]
     },
     "execution_count": 27,
     "metadata": {},
     "output_type": "execute_result"
    }
   ],
   "source": [
    "type(arr)"
   ]
  },
  {
   "cell_type": "code",
   "execution_count": 28,
   "id": "6de22a97-8e3a-43c1-9048-6f6932c39525",
   "metadata": {},
   "outputs": [
    {
     "data": {
      "text/plain": [
       "dtype('int32')"
      ]
     },
     "execution_count": 28,
     "metadata": {},
     "output_type": "execute_result"
    }
   ],
   "source": [
    "arr.dtype"
   ]
  },
  {
   "cell_type": "code",
   "execution_count": 29,
   "id": "768c5c28-5cd5-4092-8f28-eb51a6e9fa6a",
   "metadata": {},
   "outputs": [
    {
     "data": {
      "text/plain": [
       "array([[1],\n",
       "       [2],\n",
       "       [3]])"
      ]
     },
     "execution_count": 29,
     "metadata": {},
     "output_type": "execute_result"
    }
   ],
   "source": [
    "arr.reshape(3,1)"
   ]
  },
  {
   "cell_type": "code",
   "execution_count": 30,
   "id": "2359be5e-5f9a-4ee2-8fff-80012829d41a",
   "metadata": {},
   "outputs": [
    {
     "data": {
      "text/plain": [
       "array([[1, 2, 3]])"
      ]
     },
     "execution_count": 30,
     "metadata": {},
     "output_type": "execute_result"
    }
   ],
   "source": [
    "arr.reshape(1,3)"
   ]
  },
  {
   "cell_type": "code",
   "execution_count": 38,
   "id": "faedc09e-b780-46b4-88ae-7acf4b4a89d2",
   "metadata": {},
   "outputs": [
    {
     "name": "stdout",
     "output_type": "stream",
     "text": [
      "arr [[1 2]\n",
      " [3 4]]\n",
      "arr shape (2, 2)\n",
      "arr dimensions 2\n",
      "arr size 4\n",
      "arr data type int32\n",
      "arr size bytes 4\n"
     ]
    }
   ],
   "source": [
    "arr= np.array([[1,2],[3,4]])\n",
    "print(\"arr\",arr)\n",
    "print(\"arr shape\",arr.shape)\n",
    "print(\"arr dimensions\",arr.ndim)\n",
    "print(\"arr size\",arr.size)\n",
    "print(\"arr data type\",arr.dtype)\n",
    "print(\"arr size bytes\",arr.itemsize)"
   ]
  },
  {
   "cell_type": "code",
   "execution_count": 39,
   "id": "a6a36c97-ef28-4653-ad1f-31bab76f53cc",
   "metadata": {},
   "outputs": [
    {
     "data": {
      "text/plain": [
       "array([1, 2, 3, 4])"
      ]
     },
     "execution_count": 39,
     "metadata": {},
     "output_type": "execute_result"
    }
   ],
   "source": [
    "arr.flatten()"
   ]
  },
  {
   "cell_type": "code",
   "execution_count": 40,
   "id": "5f302638-7513-4b56-a559-226b5f22a03a",
   "metadata": {},
   "outputs": [
    {
     "data": {
      "text/plain": [
       "(2, 2)"
      ]
     },
     "execution_count": 40,
     "metadata": {},
     "output_type": "execute_result"
    }
   ],
   "source": [
    "arr.shape"
   ]
  },
  {
   "cell_type": "code",
   "execution_count": 41,
   "id": "c90e5d81-b549-4aec-9c99-f36ea5feb501",
   "metadata": {},
   "outputs": [
    {
     "data": {
      "text/plain": [
       "array([[1., 1., 1.],\n",
       "       [1., 1., 1.],\n",
       "       [1., 1., 1.]])"
      ]
     },
     "execution_count": 41,
     "metadata": {},
     "output_type": "execute_result"
    }
   ],
   "source": [
    "np.ones((3,3))"
   ]
  },
  {
   "cell_type": "code",
   "execution_count": 42,
   "id": "c65b98de-4915-4c12-966e-2e63d4689ccf",
   "metadata": {},
   "outputs": [
    {
     "data": {
      "text/plain": [
       "array([1., 1., 1.])"
      ]
     },
     "execution_count": 42,
     "metadata": {},
     "output_type": "execute_result"
    }
   ],
   "source": [
    "np.ones(3)"
   ]
  },
  {
   "cell_type": "code",
   "execution_count": 43,
   "id": "9a7071cf-f5f8-446e-b5b0-f6cea4652149",
   "metadata": {},
   "outputs": [
    {
     "data": {
      "text/plain": [
       "array([0., 0.])"
      ]
     },
     "execution_count": 43,
     "metadata": {},
     "output_type": "execute_result"
    }
   ],
   "source": [
    "np.zeros(2)"
   ]
  },
  {
   "cell_type": "code",
   "execution_count": 44,
   "id": "4efb7d66-888b-40f1-9dc1-01d374f3b605",
   "metadata": {},
   "outputs": [
    {
     "data": {
      "text/plain": [
       "array([[1., 0., 0., 0.],\n",
       "       [0., 1., 0., 0.],\n",
       "       [0., 0., 1., 0.],\n",
       "       [0., 0., 0., 1.]])"
      ]
     },
     "execution_count": 44,
     "metadata": {},
     "output_type": "execute_result"
    }
   ],
   "source": [
    "\n",
    "np.eye(4)"
   ]
  },
  {
   "cell_type": "code",
   "execution_count": 45,
   "id": "20b0341c-6ba7-427b-a3a8-bae38a5a1887",
   "metadata": {},
   "outputs": [],
   "source": [
    "\n",
    "arr1=np.array([1,2,3])\n",
    "arr2=np.array([3,2,1])"
   ]
  },
  {
   "cell_type": "code",
   "execution_count": 47,
   "id": "a0e34de1-34a4-4924-b326-80faa9ea4e78",
   "metadata": {},
   "outputs": [
    {
     "data": {
      "text/plain": [
       "array([4, 4, 4])"
      ]
     },
     "execution_count": 47,
     "metadata": {},
     "output_type": "execute_result"
    }
   ],
   "source": [
    "arr1 +arr2"
   ]
  },
  {
   "cell_type": "code",
   "execution_count": 48,
   "id": "716a4e04-a4aa-4eaa-8550-30457152c2a6",
   "metadata": {},
   "outputs": [
    {
     "data": {
      "text/plain": [
       "array([-2,  0,  2])"
      ]
     },
     "execution_count": 48,
     "metadata": {},
     "output_type": "execute_result"
    }
   ],
   "source": [
    "arr1- arr2"
   ]
  },
  {
   "cell_type": "code",
   "execution_count": 49,
   "id": "f4844302-6edc-4f45-ad53-9d89e7442b10",
   "metadata": {},
   "outputs": [],
   "source": [
    "arr3=[1,2,3]\n",
    "arr3=np.array(arr3)"
   ]
  },
  {
   "cell_type": "code",
   "execution_count": 50,
   "id": "bdea20f6-977f-4e22-ab5d-540eef2ff20f",
   "metadata": {},
   "outputs": [
    {
     "data": {
      "text/plain": [
       "array([0.84147098, 0.90929743, 0.14112001])"
      ]
     },
     "execution_count": 50,
     "metadata": {},
     "output_type": "execute_result"
    }
   ],
   "source": [
    "np.sin(arr3)"
   ]
  },
  {
   "cell_type": "code",
   "execution_count": 52,
   "id": "0a1e1f4e-9f03-41d9-aa2e-f1487e4e3a75",
   "metadata": {},
   "outputs": [
    {
     "data": {
      "text/plain": [
       "array([1, 4, 9])"
      ]
     },
     "execution_count": 52,
     "metadata": {},
     "output_type": "execute_result"
    }
   ],
   "source": [
    "np.square(arr3)"
   ]
  },
  {
   "cell_type": "code",
   "execution_count": 54,
   "id": "06d053ca-5712-4cb5-928c-545c27ac5c76",
   "metadata": {},
   "outputs": [
    {
     "data": {
      "text/plain": [
       "array([[1, 2],\n",
       "       [3, 4]])"
      ]
     },
     "execution_count": 54,
     "metadata": {},
     "output_type": "execute_result"
    }
   ],
   "source": [
    "arr"
   ]
  },
  {
   "cell_type": "code",
   "execution_count": 58,
   "id": "6fe663eb-8af4-4d07-82e7-a136a9f201c7",
   "metadata": {},
   "outputs": [],
   "source": [
    "arr4= np.array([[1,2,3],[4,5,6],[7,8,9]])"
   ]
  },
  {
   "cell_type": "code",
   "execution_count": 59,
   "id": "19b86182-6fc5-4f4c-be66-8c1b8960cf9b",
   "metadata": {},
   "outputs": [
    {
     "data": {
      "text/plain": [
       "array([[1, 2, 3],\n",
       "       [4, 5, 6],\n",
       "       [7, 8, 9]])"
      ]
     },
     "execution_count": 59,
     "metadata": {},
     "output_type": "execute_result"
    }
   ],
   "source": [
    "arr4"
   ]
  },
  {
   "cell_type": "code",
   "execution_count": 63,
   "id": "08c3ce27-5743-45f1-9b47-1a1604b086a8",
   "metadata": {},
   "outputs": [
    {
     "data": {
      "text/plain": [
       "5"
      ]
     },
     "execution_count": 63,
     "metadata": {},
     "output_type": "execute_result"
    }
   ],
   "source": [
    "arr4[1][1]\n"
   ]
  },
  {
   "cell_type": "code",
   "execution_count": 66,
   "id": "1bf1bf20-ea11-4d34-86bf-1072c37da691",
   "metadata": {},
   "outputs": [
    {
     "data": {
      "text/plain": [
       "array([[4, 5, 6],\n",
       "       [7, 8, 9]])"
      ]
     },
     "execution_count": 66,
     "metadata": {},
     "output_type": "execute_result"
    }
   ],
   "source": [
    "arr4[:][1:]"
   ]
  },
  {
   "cell_type": "code",
   "execution_count": 67,
   "id": "0376d299-5bfc-482f-b2c3-f01e54544ab0",
   "metadata": {},
   "outputs": [
    {
     "data": {
      "text/plain": [
       "array([[2, 3],\n",
       "       [5, 6],\n",
       "       [8, 9]])"
      ]
     },
     "execution_count": 67,
     "metadata": {},
     "output_type": "execute_result"
    }
   ],
   "source": [
    "arr4[:,1:]"
   ]
  },
  {
   "cell_type": "code",
   "execution_count": 68,
   "id": "4c0b8b09-cb95-4d00-9a94-120818af2c91",
   "metadata": {},
   "outputs": [],
   "source": [
    "# normalized data mean o and sd 1"
   ]
  },
  {
   "cell_type": "code",
   "execution_count": 69,
   "id": "5c160971-1c91-452c-acc2-c15f896db0f6",
   "metadata": {},
   "outputs": [],
   "source": [
    "data=[1,2,3,4,5]\n"
   ]
  },
  {
   "cell_type": "code",
   "execution_count": 70,
   "id": "e60304ee-eb87-417f-bad3-414430fa20bc",
   "metadata": {},
   "outputs": [],
   "source": [
    "mean=np.mean(data)\n",
    "sd=np.std(data)\n",
    "\n",
    "data= (data-mean)/sd"
   ]
  },
  {
   "cell_type": "code",
   "execution_count": 71,
   "id": "d60a1806-69c2-42a0-a756-1ea6f12f528e",
   "metadata": {},
   "outputs": [
    {
     "data": {
      "text/plain": [
       "array([-1.41421356, -0.70710678,  0.        ,  0.70710678,  1.41421356])"
      ]
     },
     "execution_count": 71,
     "metadata": {},
     "output_type": "execute_result"
    }
   ],
   "source": [
    "data"
   ]
  },
  {
   "cell_type": "code",
   "execution_count": 72,
   "id": "2740efe6-8eaa-4fbf-b40f-3596c252670a",
   "metadata": {},
   "outputs": [
    {
     "data": {
      "text/plain": [
       "array([-1.41421356, -0.70710678,  0.        ,  0.70710678,  1.41421356])"
      ]
     },
     "execution_count": 72,
     "metadata": {},
     "output_type": "execute_result"
    }
   ],
   "source": [
    "data"
   ]
  },
  {
   "cell_type": "code",
   "execution_count": 74,
   "id": "f7e121c2-5a41-4938-8d62-efc525567537",
   "metadata": {},
   "outputs": [
    {
     "data": {
      "text/plain": [
       "array([0.        , 0.70710678, 1.41421356])"
      ]
     },
     "execution_count": 74,
     "metadata": {},
     "output_type": "execute_result"
    }
   ],
   "source": [
    "data[data>=0]"
   ]
  },
  {
   "cell_type": "code",
   "execution_count": 75,
   "id": "b0951117-1e93-40ad-b15b-59d1d729ebc4",
   "metadata": {},
   "outputs": [],
   "source": [
    "a=[3,2,1]\n"
   ]
  },
  {
   "cell_type": "code",
   "execution_count": 76,
   "id": "12d79cbc-7ac9-4162-8fc9-89e2ad0c79b9",
   "metadata": {},
   "outputs": [
    {
     "data": {
      "text/plain": [
       "array([1, 2, 3])"
      ]
     },
     "execution_count": 76,
     "metadata": {},
     "output_type": "execute_result"
    }
   ],
   "source": [
    "np.sort(a,axis=0)"
   ]
  },
  {
   "cell_type": "code",
   "execution_count": 80,
   "id": "fe8428d5-c125-4dec-931d-f003b26aace3",
   "metadata": {},
   "outputs": [
    {
     "data": {
      "text/plain": [
       "array([[3, 1],\n",
       "       [6, 2]])"
      ]
     },
     "execution_count": 80,
     "metadata": {},
     "output_type": "execute_result"
    }
   ],
   "source": [
    "b=np.array([[3,2],[6,1]])\n",
    "np.sort(b,axis=0)"
   ]
  },
  {
   "cell_type": "code",
   "execution_count": 81,
   "id": "ab7cffa2-5127-4e31-88e5-7246f8daf1de",
   "metadata": {},
   "outputs": [
    {
     "data": {
      "text/plain": [
       "array([[2, 3],\n",
       "       [1, 6]])"
      ]
     },
     "execution_count": 81,
     "metadata": {},
     "output_type": "execute_result"
    }
   ],
   "source": [
    "np.sort(b,axis=1)"
   ]
  },
  {
   "cell_type": "code",
   "execution_count": 82,
   "id": "b56201ac-65c7-4859-8576-4f034db149be",
   "metadata": {},
   "outputs": [],
   "source": [
    "# generating arrays"
   ]
  },
  {
   "cell_type": "code",
   "execution_count": 84,
   "id": "444cba55-f38b-40f1-9696-9fdb978609f6",
   "metadata": {},
   "outputs": [
    {
     "data": {
      "text/plain": [
       "array([1, 3, 5, 7, 9])"
      ]
     },
     "execution_count": 84,
     "metadata": {},
     "output_type": "execute_result"
    }
   ],
   "source": [
    "np.arange(1,10,2)"
   ]
  },
  {
   "cell_type": "code",
   "execution_count": 91,
   "id": "799c19fc-7804-40e0-afce-15b704f4910e",
   "metadata": {},
   "outputs": [],
   "source": [
    "c=np.linspace(1,10,100)\n"
   ]
  },
  {
   "cell_type": "code",
   "execution_count": 96,
   "id": "e885ed9c-8d8d-4f09-ab8f-29cfe39df9ad",
   "metadata": {},
   "outputs": [
    {
     "data": {
      "text/plain": [
       "array([0.05819309, 0.59535212, 0.66353865, 0.84211524])"
      ]
     },
     "execution_count": 96,
     "metadata": {},
     "output_type": "execute_result"
    }
   ],
   "source": [
    "np.random.rand(4)"
   ]
  },
  {
   "cell_type": "code",
   "execution_count": 100,
   "id": "eb4aa003-18cb-4d28-a4cb-85b5f111cc53",
   "metadata": {},
   "outputs": [
    {
     "data": {
      "text/plain": [
       "array([3, 2, 3, 2, 1, 3, 1, 2, 2, 0])"
      ]
     },
     "execution_count": 100,
     "metadata": {},
     "output_type": "execute_result"
    }
   ],
   "source": [
    "\n",
    "np.random.randint(4,size=10)"
   ]
  },
  {
   "cell_type": "code",
   "execution_count": null,
   "id": "03f5aa37-8a7d-48d9-b6d7-33cbbe6c7578",
   "metadata": {},
   "outputs": [],
   "source": []
  }
 ],
 "metadata": {
  "kernelspec": {
   "display_name": "Python 3 (ipykernel)",
   "language": "python",
   "name": "python3"
  },
  "language_info": {
   "codemirror_mode": {
    "name": "ipython",
    "version": 3
   },
   "file_extension": ".py",
   "mimetype": "text/x-python",
   "name": "python",
   "nbconvert_exporter": "python",
   "pygments_lexer": "ipython3",
   "version": "3.12.3"
  }
 },
 "nbformat": 4,
 "nbformat_minor": 5
}
