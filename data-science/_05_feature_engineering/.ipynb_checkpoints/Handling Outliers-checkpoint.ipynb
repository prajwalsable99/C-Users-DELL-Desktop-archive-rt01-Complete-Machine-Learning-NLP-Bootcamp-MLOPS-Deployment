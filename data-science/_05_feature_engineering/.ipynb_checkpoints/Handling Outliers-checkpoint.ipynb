{
 "cells": [
  {
   "cell_type": "code",
   "execution_count": 1,
   "id": "d99f716b-5b1b-4070-8802-7d99eb0795dc",
   "metadata": {},
   "outputs": [],
   "source": [
    "# 5 number summary boxplot"
   ]
  },
  {
   "cell_type": "code",
   "execution_count": 2,
   "id": "f6ec6e9e-bbbf-42df-a53e-d9f2ab2f68ef",
   "metadata": {},
   "outputs": [],
   "source": [
    "ages= [ 23,22,8,11,25,26,24,24,24,23,22,27,28,29,55,45 ]"
   ]
  },
  {
   "cell_type": "code",
   "execution_count": 17,
   "id": "1d201ddb-420d-4138-aea0-aa2407fc45a7",
   "metadata": {},
   "outputs": [],
   "source": [
    "import numpy as np\n",
    "import pandas as pd\n",
    "\n",
    "ages= pd.DataFrame(ages,columns=['age'])"
   ]
  },
  {
   "cell_type": "code",
   "execution_count": 18,
   "id": "5eb499a8-b5ca-43e2-bed1-c4ec98af74f0",
   "metadata": {},
   "outputs": [
    {
     "data": {
      "text/plain": [
       "array([ 8.  , 22.75, 24.  , 27.25, 55.  ])"
      ]
     },
     "execution_count": 18,
     "metadata": {},
     "output_type": "execute_result"
    }
   ],
   "source": [
    "five_num_sumarry= np.quantile(ages,[0,0.25,0.5,0.75,1])\n",
    "five_num_sumarry"
   ]
  },
  {
   "cell_type": "code",
   "execution_count": 19,
   "id": "e25b16bd-3c01-4d94-9ba7-9e9666813376",
   "metadata": {},
   "outputs": [],
   "source": [
    "minimum,q1,median,q3,maximum= five_num_sumarry"
   ]
  },
  {
   "cell_type": "code",
   "execution_count": 20,
   "id": "ec9b0045-c27f-487c-af33-e83e8e9855a5",
   "metadata": {},
   "outputs": [
    {
     "data": {
      "text/plain": [
       "4.5"
      ]
     },
     "execution_count": 20,
     "metadata": {},
     "output_type": "execute_result"
    }
   ],
   "source": [
    "iqr= q3-q1\n",
    "iqr"
   ]
  },
  {
   "cell_type": "code",
   "execution_count": 21,
   "id": "b87b901a-120f-464d-b8d1-b1ba2f10081c",
   "metadata": {},
   "outputs": [
    {
     "data": {
      "text/plain": [
       "(16.0, 34.0)"
      ]
     },
     "execution_count": 21,
     "metadata": {},
     "output_type": "execute_result"
    }
   ],
   "source": [
    "lower_fence = q1- 1.5*(iqr)\n",
    "higher_fence= q3 + 1.5*(iqr)\n",
    "\n",
    "lower_fence,higher_fence"
   ]
  },
  {
   "cell_type": "code",
   "execution_count": 22,
   "id": "e3e3157b-2e52-4e11-9016-cc5e04c1eacf",
   "metadata": {},
   "outputs": [],
   "source": [
    "# values less than 16 and greater than 34 consider as outlier"
   ]
  },
  {
   "cell_type": "code",
   "execution_count": 23,
   "id": "e8750149-f5d4-4d97-b94a-e78c6cbbdbd1",
   "metadata": {},
   "outputs": [],
   "source": [
    "import matplotlib.pyplot as plt\n",
    "import seaborn as  sns"
   ]
  },
  {
   "cell_type": "code",
   "execution_count": 24,
   "id": "3e2da891-fd20-4d9a-a814-598444831b8e",
   "metadata": {},
   "outputs": [
    {
     "data": {
      "text/plain": [
       "<Axes: >"
      ]
     },
     "execution_count": 24,
     "metadata": {},
     "output_type": "execute_result"
    },
    {
     "data": {
      "image/png": "[encoded data removed]",
      "text/plain": [
       "<Figure size 640x480 with 1 Axes>"
      ]
     },
     "metadata": {},
     "output_type": "display_data"
    }
   ],
   "source": [
    "sns.boxplot(ages)"
   ]
  },
  {
   "cell_type": "code",
   "execution_count": 40,
   "id": "d1f0ab47-12db-4755-99c0-a74869b1955e",
   "metadata": {},
   "outputs": [],
   "source": [
    "df=ages.loc[ (  ages['age'] > lower_fence) & (ages['age'] < higher_fence) ]"
   ]
  },
  {
   "cell_type": "code",
   "execution_count": 41,
   "id": "81976ce6-51c8-42a9-aa99-8e3b8e929ed4",
   "metadata": {},
   "outputs": [
    {
     "data": {
      "text/html": [
       "<div>\n",
       "<style scoped>\n",
       "    .dataframe tbody tr th:only-of-type {\n",
       "        vertical-align: middle;\n",
       "    }\n",
       "\n",
       "    .dataframe tbody tr th {\n",
       "        vertical-align: top;\n",
       "    }\n",
       "\n",
       "    .dataframe thead th {\n",
       "        text-align: right;\n",
       "    }\n",
       "</style>\n",
       "<table border=\"1\" class=\"dataframe\">\n",
       "  <thead>\n",
       "    <tr style=\"text-align: right;\">\n",
       "      <th></th>\n",
       "      <th>age</th>\n",
       "    </tr>\n",
       "  </thead>\n",
       "  <tbody>\n",
       "    <tr>\n",
       "      <th>0</th>\n",
       "      <td>23</td>\n",
       "    </tr>\n",
       "    <tr>\n",
       "      <th>1</th>\n",
       "      <td>22</td>\n",
       "    </tr>\n",
       "    <tr>\n",
       "      <th>4</th>\n",
       "      <td>25</td>\n",
       "    </tr>\n",
       "    <tr>\n",
       "      <th>5</th>\n",
       "      <td>26</td>\n",
       "    </tr>\n",
       "    <tr>\n",
       "      <th>6</th>\n",
       "      <td>24</td>\n",
       "    </tr>\n",
       "    <tr>\n",
       "      <th>7</th>\n",
       "      <td>24</td>\n",
       "    </tr>\n",
       "    <tr>\n",
       "      <th>8</th>\n",
       "      <td>24</td>\n",
       "    </tr>\n",
       "    <tr>\n",
       "      <th>9</th>\n",
       "      <td>23</td>\n",
       "    </tr>\n",
       "    <tr>\n",
       "      <th>10</th>\n",
       "      <td>22</td>\n",
       "    </tr>\n",
       "    <tr>\n",
       "      <th>11</th>\n",
       "      <td>27</td>\n",
       "    </tr>\n",
       "    <tr>\n",
       "      <th>12</th>\n",
       "      <td>28</td>\n",
       "    </tr>\n",
       "    <tr>\n",
       "      <th>13</th>\n",
       "      <td>29</td>\n",
       "    </tr>\n",
       "  </tbody>\n",
       "</table>\n",
       "</div>"
      ],
      "text/plain": [
       "    age\n",
       "0    23\n",
       "1    22\n",
       "4    25\n",
       "5    26\n",
       "6    24\n",
       "7    24\n",
       "8    24\n",
       "9    23\n",
       "10   22\n",
       "11   27\n",
       "12   28\n",
       "13   29"
      ]
     },
     "execution_count": 41,
     "metadata": {},
     "output_type": "execute_result"
    }
   ],
   "source": [
    "df"
   ]
  },
  {
   "cell_type": "code",
   "execution_count": 37,
   "id": "c0a7c361-06fc-42ad-b582-7b864c14ac3c",
   "metadata": {},
   "outputs": [
    {
     "data": {
      "text/plain": [
       "<Axes: >"
      ]
     },
     "execution_count": 37,
     "metadata": {},
     "output_type": "execute_result"
    },
    {
     "data": {
      "image/png": "[encoded data removed]",
      "text/plain": [
       "<Figure size 640x480 with 1 Axes>"
      ]
     },
     "metadata": {},
     "output_type": "display_data"
    }
   ],
   "source": [
    "sns.boxplot(df)"
   ]
  },
  {
   "cell_type": "code",
   "execution_count": null,
   "id": "38c41adc-0418-463c-9501-8fe016273705",
   "metadata": {},
   "outputs": [],
   "source": []
  }
 ],
 "metadata": {
  "kernelspec": {
   "display_name": "Python 3 (ipykernel)",
   "language": "python",
   "name": "python3"
  },
  "language_info": {
   "codemirror_mode": {
    "name": "ipython",
    "version": 3
   },
   "file_extension": ".py",
   "mimetype": "text/x-python",
   "name": "python",
   "nbconvert_exporter": "python",
   "pygments_lexer": "ipython3",
   "version": "3.12.3"
  }
 },
 "nbformat": 4,
 "nbformat_minor": 5
}
